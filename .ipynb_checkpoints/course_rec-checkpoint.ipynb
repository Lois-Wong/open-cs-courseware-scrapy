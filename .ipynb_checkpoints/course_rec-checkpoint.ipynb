{
 "cells": [
  {
   "cell_type": "code",
   "execution_count": 1,
   "id": "798a0b2b-af23-4e7d-9e7c-b6abb374c98c",
   "metadata": {
    "tags": []
   },
   "outputs": [],
   "source": [
    "import time \n",
    "import logging\n",
    "import requests\n",
    "import re\n",
    "import sys\n",
    "from bs4 import BeautifulSoup\n",
    "from queue import Queue\n",
    "from urllib import parse, request\n",
    "from urllib.parse import urlparse\n",
    "import heapq\n",
    "from selenium import webdriver \n",
    "from selenium.webdriver.common.keys import Keys\n",
    "import pandas as pd\n",
    "from selenium.webdriver.common.by import By"
   ]
  },
  {
   "cell_type": "code",
   "execution_count": 20,
   "id": "d28c85e2-f003-48b3-bda4-2535718b2b0c",
   "metadata": {
    "tags": []
   },
   "outputs": [
    {
     "data": {
      "text/html": [
       "<div>\n",
       "<style scoped>\n",
       "    .dataframe tbody tr th:only-of-type {\n",
       "        vertical-align: middle;\n",
       "    }\n",
       "\n",
       "    .dataframe tbody tr th {\n",
       "        vertical-align: top;\n",
       "    }\n",
       "\n",
       "    .dataframe thead th {\n",
       "        text-align: right;\n",
       "    }\n",
       "</style>\n",
       "<table border=\"1\" class=\"dataframe\">\n",
       "  <thead>\n",
       "    <tr style=\"text-align: right;\">\n",
       "      <th></th>\n",
       "      <th>Unnamed: 0</th>\n",
       "      <th>Title</th>\n",
       "      <th>Description</th>\n",
       "      <th>Link</th>\n",
       "      <th>Link to Syllabus</th>\n",
       "    </tr>\n",
       "  </thead>\n",
       "  <tbody>\n",
       "    <tr>\n",
       "      <th>0</th>\n",
       "      <td>0</td>\n",
       "      <td>Mathematics for Computer Science</td>\n",
       "      <td>This course covers elementary discrete mathema...</td>\n",
       "      <td>https://ocw.mit.edu/courses/6-042j-mathematics...</td>\n",
       "      <td>https://ocw.mit.edu/courses/6-042j-mathematics...</td>\n",
       "    </tr>\n",
       "    <tr>\n",
       "      <th>1</th>\n",
       "      <td>1</td>\n",
       "      <td>Mathematics for Computer Science</td>\n",
       "      <td>This is an introductory course in Discrete Mat...</td>\n",
       "      <td>https://ocw.mit.edu/courses/6-042j-mathematics...</td>\n",
       "      <td>https://ocw.mit.edu/courses/6-042j-mathematics...</td>\n",
       "    </tr>\n",
       "    <tr>\n",
       "      <th>2</th>\n",
       "      <td>2</td>\n",
       "      <td>Mathematics for Computer Science</td>\n",
       "      <td>This subject offers an interactive introductio...</td>\n",
       "      <td>https://ocw.mit.edu/courses/6-042j-mathematics...</td>\n",
       "      <td>https://ocw.mit.edu/courses/6-042j-mathematics...</td>\n",
       "    </tr>\n",
       "    <tr>\n",
       "      <th>3</th>\n",
       "      <td>3</td>\n",
       "      <td>Computational Cognitive Science</td>\n",
       "      <td>This course is an introduction to computationa...</td>\n",
       "      <td>https://ocw.mit.edu/courses/9-66j-computationa...</td>\n",
       "      <td>https://ocw.mit.edu/courses/9-66j-computationa...</td>\n",
       "    </tr>\n",
       "    <tr>\n",
       "      <th>4</th>\n",
       "      <td>4</td>\n",
       "      <td>Introduction to Computer Science and Programming</td>\n",
       "      <td>6.00 Intro to CS and Programming has been reti...</td>\n",
       "      <td>https://ocw.mit.edu/courses/6-00-introduction-...</td>\n",
       "      <td>https://ocw.mit.edu/courses/6-00-introduction-...</td>\n",
       "    </tr>\n",
       "  </tbody>\n",
       "</table>\n",
       "</div>"
      ],
      "text/plain": [
       "   Unnamed: 0                                             Title  \\\n",
       "0           0                  Mathematics for Computer Science   \n",
       "1           1                  Mathematics for Computer Science   \n",
       "2           2                  Mathematics for Computer Science   \n",
       "3           3                   Computational Cognitive Science   \n",
       "4           4  Introduction to Computer Science and Programming   \n",
       "\n",
       "                                         Description  \\\n",
       "0  This course covers elementary discrete mathema...   \n",
       "1  This is an introductory course in Discrete Mat...   \n",
       "2  This subject offers an interactive introductio...   \n",
       "3  This course is an introduction to computationa...   \n",
       "4  6.00 Intro to CS and Programming has been reti...   \n",
       "\n",
       "                                                Link  \\\n",
       "0  https://ocw.mit.edu/courses/6-042j-mathematics...   \n",
       "1  https://ocw.mit.edu/courses/6-042j-mathematics...   \n",
       "2  https://ocw.mit.edu/courses/6-042j-mathematics...   \n",
       "3  https://ocw.mit.edu/courses/9-66j-computationa...   \n",
       "4  https://ocw.mit.edu/courses/6-00-introduction-...   \n",
       "\n",
       "                                    Link to Syllabus  \n",
       "0  https://ocw.mit.edu/courses/6-042j-mathematics...  \n",
       "1  https://ocw.mit.edu/courses/6-042j-mathematics...  \n",
       "2  https://ocw.mit.edu/courses/6-042j-mathematics...  \n",
       "3  https://ocw.mit.edu/courses/9-66j-computationa...  \n",
       "4  https://ocw.mit.edu/courses/6-00-introduction-...  "
      ]
     },
     "execution_count": 20,
     "metadata": {},
     "output_type": "execute_result"
    }
   ],
   "source": [
    "courses = pd.read_csv(\"/Users/loiswong/Downloads/jhu-ir-hw/final/course_df_syllabus.csv\")\n",
    "\n",
    "courses.head()"
   ]
  },
  {
   "cell_type": "code",
   "execution_count": 26,
   "id": "24324f4b-85aa-4443-ae05-d0c909b60f9c",
   "metadata": {
    "tags": []
   },
   "outputs": [],
   "source": [
    "course_descriptions = []\n",
    "descriptions = courses[\"Description\"]\n",
    "\n",
    "for course in descriptions:\n",
    "    course_descriptions.append(course) \n",
    "\n",
    "#course_descriptions  # ['desc1', 'desc2']"
   ]
  },
  {
   "cell_type": "code",
   "execution_count": null,
   "id": "6fe11c55-7fa7-4fdf-853c-857cb2b7b853",
   "metadata": {
    "tags": []
   },
   "outputs": [
    {
     "name": "stdin",
     "output_type": "stream",
     "text": [
      "What are your goals for an online CS course?  learn to code\n"
     ]
    }
   ],
   "source": [
    "from sentence_transformers import SentenceTransformer, util\n",
    "\n",
    "# Load a pre-trained sentence transformer model\n",
    "model = SentenceTransformer('paraphrase-MiniLM-L6-v2')\n",
    "\n",
    "# Example course description\n",
    "course_description = \"\"\"\n",
    "6.776 covers circuit level design issues of high speed communication systems, with primary focus being placed on wireless and broadband data link applications. Specific circuit topics include transmission lines, high speed and low noise amplifiers, VCO’s, mixers, power amps, high speed digital circuits, and frequency synthesizers. In addition to learning analysis skills for the above items, students will gain a significant amount of experience in simulating RF circuits in SPICE and also building RF circuits within a lab project.\n",
    "\"\"\"\n",
    "\n",
    "# User input\n",
    "user_goals = input(\"What are your goals for an online CS course? \")\n",
    "\n",
    "# Encode the user's goals and the course description\n",
    "user_goals_embedding = model.encode(user_goals, convert_to_tensor=True)\n",
    "course_description_embedding = model.encode(course_descriptions, convert_to_tensor=True)\n",
    "\n",
    "# Calculate the similarity between the embeddings\n",
    "cosine_score = util.pytorch_cos_sim(user_goals_embedding, course_description_embedding).item()\n",
    "\n",
    "print(f\"Similarity Score: {cosine_score}\")\n"
   ]
  },
  {
   "cell_type": "code",
   "execution_count": null,
   "id": "d2f53a7c-66e2-4ccb-adeb-60731f4abb80",
   "metadata": {},
   "outputs": [],
   "source": []
  }
 ],
 "metadata": {
  "kernelspec": {
   "display_name": "Python 3 (ipykernel)",
   "language": "python",
   "name": "python3"
  },
  "language_info": {
   "codemirror_mode": {
    "name": "ipython",
    "version": 3
   },
   "file_extension": ".py",
   "mimetype": "text/x-python",
   "name": "python",
   "nbconvert_exporter": "python",
   "pygments_lexer": "ipython3",
   "version": "3.11.4"
  }
 },
 "nbformat": 4,
 "nbformat_minor": 5
}
