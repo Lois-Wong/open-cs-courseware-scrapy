{
 "cells": [
  {
   "cell_type": "code",
   "execution_count": 2,
   "id": "44fafa11-494a-4c80-8a08-9c0a0070b808",
   "metadata": {
    "tags": []
   },
   "outputs": [],
   "source": [
    "import re\n",
    "import time \n",
    "import logging\n",
    "import requests\n",
    "import re\n",
    "import sys\n",
    "from bs4 import BeautifulSoup\n",
    "from queue import Queue\n",
    "from urllib import parse, request\n",
    "from urllib.parse import urlparse\n",
    "import heapq\n",
    "from selenium import webdriver \n",
    "from selenium.webdriver.common.keys import Keys\n",
    "import pandas as pd\n",
    "from selenium.webdriver.common.by import By\n",
    "from selenium.webdriver.support.ui import WebDriverWait\n",
    "from selenium.webdriver.support import expected_conditions as EC"
   ]
  },
  {
   "cell_type": "markdown",
   "id": "7bf7cde7-9bd6-4c35-8d09-f7fa5a1643d2",
   "metadata": {},
   "source": [
    "#### Coursera Scraping\n",
    "\n",
    "Starting URL: https://www.coursera.org/search?query=computer%20science&topic=Computer%20Science&language=English&sortBy=BEST_MATCH\n",
    "\n",
    "These are courses filtered by \"Computer Science\" and \"English\" \n",
    "\n",
    "Courses Format:https://www.coursera.org\n",
    "\n",
    "Course1: https://www.coursera.org/learn/cs-programming-java\n",
    "Course2: https://www.coursera.org/learn/html-css-javascript-for-web-developers\n",
    "\n",
    "Course Format: https://www.coursera.org/learn/[CLASS NAME]\n"
   ]
  },
  {
   "cell_type": "code",
   "execution_count": 68,
   "id": "501d8408-9011-4a84-9efe-6f69f6581234",
   "metadata": {
    "tags": []
   },
   "outputs": [],
   "source": [
    "# URL of the search results page\n",
    "\n",
    "site = \"https://www.coursera.org/search?query=computer%20science&topic=Computer%20Science&language=English&sortBy=BEST_MATCH\"\n",
    "#page = requests.get(site)\n",
    "#soup = BeautifulSoup(page.content, \"html.parser\")"
   ]
  },
  {
   "cell_type": "code",
   "execution_count": null,
   "id": "b2a39e06-87ff-44ea-9741-5015fb7224a1",
   "metadata": {
    "tags": []
   },
   "outputs": [],
   "source": [
    "links = []\n",
    "\n",
    "# Create a webdriver instance\n",
    "driver = webdriver.Chrome()\n",
    "\n",
    "# Navigate to the first page of search results\n",
    "driver.get(site)\n",
    "\n",
    "while True:\n",
    "    try:\n",
    "        # Wait for the page to fully load\n",
    "        WebDriverWait(driver, 10).until(EC.presence_of_element_located((By.CLASS_NAME, \"cds-CommonCard-titleLink\")))\n",
    "        \n",
    "        # Extract links from the current page\n",
    "        cards = driver.find_elements(By.CLASS_NAME, 'cds-CommonCard-titleLink')\n",
    "        for card in cards:\n",
    "            link = card.get_attribute(\"href\")\n",
    "            links.append(link)\n",
    "        #print(links)\n",
    "\n",
    "        # Click the \"Go to next page\" button\n",
    "        next_button = WebDriverWait(driver, 10).until(EC.presence_of_element_located((By.XPATH, \"//button[@aria-label='Go to next page']\")))\n",
    "        next_button.click()\n",
    "        \n",
    "    except Exception as e:\n",
    "        # If there is no next button, break the loop\n",
    "        print(f\"No more pages: {e}\")\n",
    "        break\n",
    "\n",
    "# Close the webdriver\n",
    "driver.quit()\n"
   ]
  },
  {
   "cell_type": "code",
   "execution_count": 66,
   "id": "a3d3fbe2-ea07-4f51-ad64-d8cc6ce8a64e",
   "metadata": {
    "tags": []
   },
   "outputs": [
    {
     "name": "stdout",
     "output_type": "stream",
     "text": [
      "['https://www.coursera.org/learn/data-analysis-representation-selection-iteration', 'https://www.coursera.org/learn/executing-full-text-queries-with-elasticsearch', 'https://www.coursera.org/projects/create-an-ebook-cover-using-canva', 'https://www.coursera.org/learn/gcp-fundamentals-aws']\n"
     ]
    }
   ],
   "source": [
    "print(len(links))"
   ]
  },
  {
   "cell_type": "code",
   "execution_count": null,
   "id": "02ac9c9b-4de0-4919-ad80-dfa5157e099c",
   "metadata": {},
   "outputs": [],
   "source": []
  },
  {
   "cell_type": "code",
   "execution_count": 35,
   "id": "5df5c1d2-3519-4b1d-aa53-4d2c0feca234",
   "metadata": {
    "tags": []
   },
   "outputs": [],
   "source": [
    "# Visit each link and extract the title and description\n",
    "\n",
    "titles = []\n",
    "descriptions = []\n",
    "\n",
    "for link in links:\n",
    "    driver.get(link)\n",
    "    time.sleep(2)  # Add a delay to allow the page to load\n",
    "    soup = BeautifulSoup(driver.page_source, 'html.parser')\n",
    "    \n",
    "    # Extract title\n",
    "    title_element = soup.find('a', class_='text-capitalize m-0 text-white')\n",
    "    if title_element:\n",
    "        titles.append(title_element.text.strip())\n",
    "    else:\n",
    "        titles.append('Title not found')\n",
    "    \n",
    "    # Extract description\n",
    "    description_element = soup.find('div', id='expanded-description')\n",
    "    if description_element:\n",
    "        descriptions.append(description_element.text.strip())\n",
    "    else:\n",
    "        description_element = soup.find('div', id='full-description')\n",
    "        if description_element:\n",
    "            descriptions.append(description_element.text.strip()) \n",
    "        else:\n",
    "            descriptions.append('Description not found') \n",
    "    \n",
    "    #print(f\"Title: {title}\")\n",
    "    #print(f\"Description: {description}\")\n",
    "    #print()\n",
    "\n",
    "# Quit the webdriver\n",
    "driver.quit()"
   ]
  },
  {
   "cell_type": "code",
   "execution_count": null,
   "id": "4237ac45-a51c-48f4-a871-708fe83c5960",
   "metadata": {},
   "outputs": [],
   "source": []
  },
  {
   "cell_type": "code",
   "execution_count": null,
   "id": "bf7cf3f0-7a13-4d10-8798-fb8f98af0d57",
   "metadata": {},
   "outputs": [],
   "source": []
  },
  {
   "cell_type": "code",
   "execution_count": null,
   "id": "9096a182-4140-487d-8ff3-8e5beadbb4f3",
   "metadata": {},
   "outputs": [],
   "source": []
  },
  {
   "cell_type": "code",
   "execution_count": 36,
   "id": "e2baae43-225a-4d15-9667-4a5b7e288f89",
   "metadata": {
    "tags": []
   },
   "outputs": [],
   "source": [
    "coursera_df = pd.DataFrame(\n",
    "    {'Title': titles,\n",
    "     'Description': descriptions,\n",
    "     'Link': links})"
   ]
  },
  {
   "cell_type": "code",
   "execution_count": 37,
   "id": "6a592eb9-fe73-4538-8701-4459b7501d36",
   "metadata": {
    "tags": []
   },
   "outputs": [
    {
     "data": {
      "text/html": [
       "<div>\n",
       "<style scoped>\n",
       "    .dataframe tbody tr th:only-of-type {\n",
       "        vertical-align: middle;\n",
       "    }\n",
       "\n",
       "    .dataframe tbody tr th {\n",
       "        vertical-align: top;\n",
       "    }\n",
       "\n",
       "    .dataframe thead th {\n",
       "        text-align: right;\n",
       "    }\n",
       "</style>\n",
       "<table border=\"1\" class=\"dataframe\">\n",
       "  <thead>\n",
       "    <tr style=\"text-align: right;\">\n",
       "      <th></th>\n",
       "      <th>Title</th>\n",
       "      <th>Description</th>\n",
       "      <th>Link</th>\n",
       "    </tr>\n",
       "  </thead>\n",
       "  <tbody>\n",
       "    <tr>\n",
       "      <th>0</th>\n",
       "      <td>Title not found</td>\n",
       "      <td>Description not found</td>\n",
       "      <td>https://www.coursera.org/learn/cs-programming-...</td>\n",
       "    </tr>\n",
       "    <tr>\n",
       "      <th>1</th>\n",
       "      <td>Title not found</td>\n",
       "      <td>Description not found</td>\n",
       "      <td>https://www.coursera.org/learn/cs-algorithms-t...</td>\n",
       "    </tr>\n",
       "    <tr>\n",
       "      <th>2</th>\n",
       "      <td>Title not found</td>\n",
       "      <td>Description not found</td>\n",
       "      <td>https://www.coursera.org/learn/learn-to-program</td>\n",
       "    </tr>\n",
       "    <tr>\n",
       "      <th>3</th>\n",
       "      <td>Title not found</td>\n",
       "      <td>Description not found</td>\n",
       "      <td>https://www.coursera.org/learn/introduction-to...</td>\n",
       "    </tr>\n",
       "    <tr>\n",
       "      <th>4</th>\n",
       "      <td>Title not found</td>\n",
       "      <td>Description not found</td>\n",
       "      <td>https://www.coursera.org/degrees/bachelor-of-s...</td>\n",
       "    </tr>\n",
       "  </tbody>\n",
       "</table>\n",
       "</div>"
      ],
      "text/plain": [
       "             Title            Description  \\\n",
       "0  Title not found  Description not found   \n",
       "1  Title not found  Description not found   \n",
       "2  Title not found  Description not found   \n",
       "3  Title not found  Description not found   \n",
       "4  Title not found  Description not found   \n",
       "\n",
       "                                                Link  \n",
       "0  https://www.coursera.org/learn/cs-programming-...  \n",
       "1  https://www.coursera.org/learn/cs-algorithms-t...  \n",
       "2    https://www.coursera.org/learn/learn-to-program  \n",
       "3  https://www.coursera.org/learn/introduction-to...  \n",
       "4  https://www.coursera.org/degrees/bachelor-of-s...  "
      ]
     },
     "execution_count": 37,
     "metadata": {},
     "output_type": "execute_result"
    }
   ],
   "source": [
    "coursera_df.head()"
   ]
  },
  {
   "cell_type": "code",
   "execution_count": null,
   "id": "552e8784-1905-4892-ad8f-17ad37e2e10f",
   "metadata": {},
   "outputs": [],
   "source": [
    "coursera_df.to_csv('coursera_df.csv')"
   ]
  }
 ],
 "metadata": {
  "kernelspec": {
   "display_name": "Python 3 (ipykernel)",
   "language": "python",
   "name": "python3"
  },
  "language_info": {
   "codemirror_mode": {
    "name": "ipython",
    "version": 3
   },
   "file_extension": ".py",
   "mimetype": "text/x-python",
   "name": "python",
   "nbconvert_exporter": "python",
   "pygments_lexer": "ipython3",
   "version": "3.11.4"
  }
 },
 "nbformat": 4,
 "nbformat_minor": 5
}
