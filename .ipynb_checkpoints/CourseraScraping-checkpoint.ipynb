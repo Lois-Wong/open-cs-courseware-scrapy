{
 "cells": [
  {
   "cell_type": "code",
   "execution_count": 2,
   "id": "44fafa11-494a-4c80-8a08-9c0a0070b808",
   "metadata": {
    "tags": []
   },
   "outputs": [],
   "source": [
    "import re\n",
    "import time \n",
    "import logging\n",
    "import requests\n",
    "import re\n",
    "import sys\n",
    "from bs4 import BeautifulSoup\n",
    "from queue import Queue\n",
    "from urllib import parse, request\n",
    "from urllib.parse import urlparse\n",
    "import heapq\n",
    "from selenium import webdriver \n",
    "from selenium.webdriver.common.keys import Keys\n",
    "import pandas as pd\n",
    "from selenium.webdriver.common.by import By\n",
    "from selenium.webdriver.support.ui import WebDriverWait\n",
    "from selenium.webdriver.support import expected_conditions as EC"
   ]
  },
  {
   "cell_type": "markdown",
   "id": "7bf7cde7-9bd6-4c35-8d09-f7fa5a1643d2",
   "metadata": {},
   "source": [
    "#### Coursera Scraping\n",
    "\n",
    "Starting URL: https://www.coursera.org/search?query=computer%20science&topic=Computer%20Science&language=English&sortBy=BEST_MATCH\n",
    "\n",
    "These are courses filtered by \"Computer Science\" and \"English\" and \"courses\"\n",
    "\n",
    "Courses Format:https://www.coursera.org\n",
    "\n",
    "Course1: https://www.coursera.org/learn/cs-programming-java\n",
    "Course2: https://www.coursera.org/learn/html-css-javascript-for-web-developers\n",
    "\n",
    "Course Format: https://www.coursera.org/learn/[CLASS NAME]\n"
   ]
  },
  {
   "cell_type": "code",
   "execution_count": 89,
   "id": "501d8408-9011-4a84-9efe-6f69f6581234",
   "metadata": {
    "tags": []
   },
   "outputs": [],
   "source": [
    "# URL of the search results page\n",
    "\n",
    "site = \"https://www.coursera.org/search?query=computer%20science&language=English&productTypeDescription=Courses&topic=Computer%20Science&subtitleLanguage=English&sortBy=BEST_MATCH\""
   ]
  },
  {
   "cell_type": "code",
   "execution_count": 90,
   "id": "b2a39e06-87ff-44ea-9741-5015fb7224a1",
   "metadata": {
    "tags": []
   },
   "outputs": [
    {
     "name": "stdout",
     "output_type": "stream",
     "text": [
      "No more pages: Message: \n",
      "Stacktrace:\n",
      "0   chromedriver                        0x000000010585bae8 chromedriver + 5217000\n",
      "1   chromedriver                        0x0000000105853723 chromedriver + 5183267\n",
      "2   chromedriver                        0x00000001053c5527 chromedriver + 406823\n",
      "3   chromedriver                        0x0000000105410ff2 chromedriver + 716786\n",
      "4   chromedriver                        0x0000000105411181 chromedriver + 717185\n",
      "5   chromedriver                        0x00000001054551d4 chromedriver + 995796\n",
      "6   chromedriver                        0x000000010543372d chromedriver + 857901\n",
      "7   chromedriver                        0x00000001054526bf chromedriver + 984767\n",
      "8   chromedriver                        0x00000001054334a3 chromedriver + 857251\n",
      "9   chromedriver                        0x0000000105403fe3 chromedriver + 663523\n",
      "10  chromedriver                        0x000000010540492e chromedriver + 665902\n",
      "11  chromedriver                        0x0000000105819a00 chromedriver + 4946432\n",
      "12  chromedriver                        0x000000010581fab4 chromedriver + 4971188\n",
      "13  chromedriver                        0x00000001057fa4fe chromedriver + 4818174\n",
      "14  chromedriver                        0x00000001058205c9 chromedriver + 4974025\n",
      "15  chromedriver                        0x00000001057ea784 chromedriver + 4753284\n",
      "16  chromedriver                        0x0000000105842c78 chromedriver + 5115000\n",
      "17  chromedriver                        0x0000000105842e37 chromedriver + 5115447\n",
      "18  chromedriver                        0x0000000105853343 chromedriver + 5182275\n",
      "19  libsystem_pthread.dylib             0x00007ff811921202 _pthread_start + 99\n",
      "20  libsystem_pthread.dylib             0x00007ff81191cbab thread_start + 15\n",
      "\n"
     ]
    }
   ],
   "source": [
    "links = []\n",
    "\n",
    "# Create a webdriver instance\n",
    "driver = webdriver.Chrome()\n",
    "\n",
    "# Navigate to the first page of search results\n",
    "driver.get(site)\n",
    "\n",
    "while True:\n",
    "    try:\n",
    "        # Wait for the page to fully load\n",
    "        WebDriverWait(driver, 10).until(EC.presence_of_element_located((By.CLASS_NAME, \"cds-CommonCard-titleLink\")))\n",
    "        \n",
    "        # Extract links from the current page\n",
    "        cards = driver.find_elements(By.CLASS_NAME, 'cds-CommonCard-titleLink')\n",
    "        for card in cards:\n",
    "            link = card.get_attribute(\"href\")\n",
    "            links.append(link)\n",
    "        #print(links)\n",
    "\n",
    "        # Click the \"Go to next page\" button\n",
    "        next_button = WebDriverWait(driver, 10).until(EC.presence_of_element_located((By.XPATH, \"//button[@aria-label='Go to next page']\")))\n",
    "        next_button.click()\n",
    "        \n",
    "    except Exception as e:\n",
    "        # If there is no next button, break the loop\n",
    "        print(f\"No more pages: {e}\")\n",
    "        break\n",
    "\n",
    "# Close the webdriver\n",
    "driver.quit()\n"
   ]
  },
  {
   "cell_type": "code",
   "execution_count": 91,
   "id": "a3d3fbe2-ea07-4f51-ad64-d8cc6ce8a64e",
   "metadata": {
    "tags": []
   },
   "outputs": [
    {
     "name": "stdout",
     "output_type": "stream",
     "text": [
      "1000\n"
     ]
    }
   ],
   "source": [
    "print(len(links))"
   ]
  },
  {
   "cell_type": "code",
   "execution_count": 75,
   "id": "d76aaf0c-3bc8-4bd8-90ec-39b752d50a9c",
   "metadata": {
    "tags": []
   },
   "outputs": [],
   "source": [
    "# test \n",
    "testlinks = [\"https://www.coursera.org/learn/cs-programming-java\", \"https://www.coursera.org/learn/cs-algorithms-theory-machines\"]"
   ]
  },
  {
   "cell_type": "code",
   "execution_count": 86,
   "id": "aa6766b2-614a-409f-a600-f40b37bcc77b",
   "metadata": {
    "tags": []
   },
   "outputs": [
    {
     "name": "stdout",
     "output_type": "stream",
     "text": [
      "Title: Computer Science: Programming with a Purpose\n",
      "Description: The basis for education in the last millennium was “reading, writing, and arithmetic;” now it is reading, writing, and computing. Learning to program is an essential part of the education of every student, not just in the sciences and engineering, but in the arts, social sciences, and humanities, as well. Beyond direct applications, it is the first step in understanding the nature of computer science’s undeniable impact on the modern world.  This course covers the first half of our book Computer Science: An Interdisciplinary Approach (the second half is covered in our Coursera course Computer Science: Algorithms, Theory, and Machines). Our intent is to teach programming to those who need or want to learn it, in a scientific context.  We begin by introducing basic programming elements such as variables, conditionals, loops, arrays, and I/O. Next, we turn to functions, introducing key concepts such as recursion, modular programming, and code reuse. Then, we present a modern introduction to object-oriented programming.\n",
      "\n",
      "We use the Java programming language and teach basic skills for computational problem solving that are applicable in many modern computing environments. Proficiency in Java is a goal, but we focus on fundamental concepts in programming, not Java per se.\n",
      "\n",
      "All the features of this course are available for free. People who are interested in digging deeper into the content may wish to obtain the textbook Computer Science: An Interdisciplinary Approach  (upon which the course is based) or to visit the website introcs.cs.princeton.edu for a wealth of additional material.\n",
      "\n",
      "This course does not offer a certificate upon completion.\n",
      "Title: Computer Science:  Algorithms, Theory, and Machines\n",
      "Description: This course  introduces the broader discipline of computer science to people having basic familiarity with Java programming.  It covers the second half of our book Computer Science: An Interdisciplinary Approach (the first half is covered in our Coursera course Computer Science: Programming with a Purpose, to be released in the fall of 2018). Our intent is to demystify computation and to build awareness about the substantial intellectual underpinnings and rich history of the field of computer science. First, we introduce classic algorithms along with scientific techniques for evaluating performance, in the context of modern applications. Next, we introduce classic theoretical models that allow us to address fundamental questions about computation, such as computability, universality, and intractability. We conclude with machine architecture (including machine-language programming and its relationship to coding in Java) and logic design (including a full CPU design built from the ground up).\n",
      "\n",
      "The course emphasizes the relationships between applications programming, the theory of computation, real computers, and the field's history and evolution, including the nature of the contributions of Boole, Shannon, Turing, von Neumann, and others.\n",
      "\n",
      "All the features of this course are available for free. People who are interested in digging deeper into the content may wish to obtain the textbook Computer Science: An Interdisciplinary Approach  (upon which the course is based) or to visit the website introcs.cs.princeton.edu for a wealth of additional material.\n",
      "\n",
      "This course does not offer a certificate upon completion.\n"
     ]
    }
   ],
   "source": [
    "# test\n",
    "\n",
    "for link in testlinks:\n",
    "                # Create a webdriver instance\n",
    "            driver = webdriver.Chrome()\n",
    "\n",
    "            # Navigate to the first page of search results\n",
    "            driver.get(link)\n",
    "            title_element = driver.find_element(By.CSS_SELECTOR, 'meta[property=\"og:title\"]')\n",
    "            title = title_element.get_attribute(\"content\")\n",
    "            print(\"Title:\", title)\n",
    "            \n",
    "            description_element = driver.find_element(By.CSS_SELECTOR, 'div.content-inner')\n",
    "            paragraphs = description_element.find_elements(By.TAG_NAME, 'p')\n",
    "            description = ' '.join([p.text for p in paragraphs])\n",
    "            print(\"Description:\", description)\n"
   ]
  },
  {
   "cell_type": "code",
   "execution_count": 92,
   "id": "5df5c1d2-3519-4b1d-aa53-4d2c0feca234",
   "metadata": {
    "tags": []
   },
   "outputs": [
    {
     "ename": "WebDriverException",
     "evalue": "Message: disconnected: Unable to receive message from renderer\n  (failed to check if window was closed: disconnected: not connected to DevTools)\n  (Session info: chrome=124.0.6367.158)\nStacktrace:\n0   chromedriver                        0x00000001030baae8 chromedriver + 5217000\n1   chromedriver                        0x00000001030b2723 chromedriver + 5183267\n2   chromedriver                        0x0000000102c24527 chromedriver + 406823\n3   chromedriver                        0x0000000102c0be32 chromedriver + 306738\n4   chromedriver                        0x0000000102c0ba9c chromedriver + 305820\n5   chromedriver                        0x0000000102c09b7d chromedriver + 297853\n6   chromedriver                        0x0000000102c09e9a chromedriver + 298650\n7   chromedriver                        0x0000000102c26ebf chromedriver + 417471\n8   chromedriver                        0x0000000102cb2255 chromedriver + 987733\n9   chromedriver                        0x0000000102c92702 chromedriver + 857858\n10  chromedriver                        0x0000000102cb16bf chromedriver + 984767\n11  chromedriver                        0x0000000102c924a3 chromedriver + 857251\n12  chromedriver                        0x0000000102c62fe3 chromedriver + 663523\n13  chromedriver                        0x0000000102c6392e chromedriver + 665902\n14  chromedriver                        0x0000000103078a00 chromedriver + 4946432\n15  chromedriver                        0x000000010307eab4 chromedriver + 4971188\n16  chromedriver                        0x00000001030594fe chromedriver + 4818174\n17  chromedriver                        0x000000010307f5c9 chromedriver + 4974025\n18  chromedriver                        0x0000000103049784 chromedriver + 4753284\n19  chromedriver                        0x00000001030a1c78 chromedriver + 5115000\n20  chromedriver                        0x00000001030a1e37 chromedriver + 5115447\n21  chromedriver                        0x00000001030b2343 chromedriver + 5182275\n22  libsystem_pthread.dylib             0x00007ff811921202 _pthread_start + 99\n23  libsystem_pthread.dylib             0x00007ff81191cbab thread_start + 15\n",
     "output_type": "error",
     "traceback": [
      "\u001b[0;31m---------------------------------------------------------------------------\u001b[0m",
      "\u001b[0;31mWebDriverException\u001b[0m                        Traceback (most recent call last)",
      "Cell \u001b[0;32mIn[92], line 11\u001b[0m\n\u001b[1;32m      8\u001b[0m driver \u001b[38;5;241m=\u001b[39m webdriver\u001b[38;5;241m.\u001b[39mChrome()\n\u001b[1;32m     10\u001b[0m \u001b[38;5;66;03m# Navigate to the first page of search results\u001b[39;00m\n\u001b[0;32m---> 11\u001b[0m \u001b[43mdriver\u001b[49m\u001b[38;5;241;43m.\u001b[39;49m\u001b[43mget\u001b[49m\u001b[43m(\u001b[49m\u001b[43mlink\u001b[49m\u001b[43m)\u001b[49m\n\u001b[1;32m     13\u001b[0m \u001b[38;5;28;01mtry\u001b[39;00m:\n\u001b[1;32m     14\u001b[0m     title_element \u001b[38;5;241m=\u001b[39m driver\u001b[38;5;241m.\u001b[39mfind_element(By\u001b[38;5;241m.\u001b[39mCSS_SELECTOR, \u001b[38;5;124m'\u001b[39m\u001b[38;5;124mmeta[property=\u001b[39m\u001b[38;5;124m\"\u001b[39m\u001b[38;5;124mog:title\u001b[39m\u001b[38;5;124m\"\u001b[39m\u001b[38;5;124m]\u001b[39m\u001b[38;5;124m'\u001b[39m)\n",
      "File \u001b[0;32m~/anaconda3/lib/python3.11/site-packages/selenium/webdriver/remote/webdriver.py:356\u001b[0m, in \u001b[0;36mWebDriver.get\u001b[0;34m(self, url)\u001b[0m\n\u001b[1;32m    354\u001b[0m \u001b[38;5;28;01mdef\u001b[39;00m \u001b[38;5;21mget\u001b[39m(\u001b[38;5;28mself\u001b[39m, url: \u001b[38;5;28mstr\u001b[39m) \u001b[38;5;241m-\u001b[39m\u001b[38;5;241m>\u001b[39m \u001b[38;5;28;01mNone\u001b[39;00m:\n\u001b[1;32m    355\u001b[0m \u001b[38;5;250m    \u001b[39m\u001b[38;5;124;03m\"\"\"Loads a web page in the current browser session.\"\"\"\u001b[39;00m\n\u001b[0;32m--> 356\u001b[0m     \u001b[38;5;28;43mself\u001b[39;49m\u001b[38;5;241;43m.\u001b[39;49m\u001b[43mexecute\u001b[49m\u001b[43m(\u001b[49m\u001b[43mCommand\u001b[49m\u001b[38;5;241;43m.\u001b[39;49m\u001b[43mGET\u001b[49m\u001b[43m,\u001b[49m\u001b[43m \u001b[49m\u001b[43m{\u001b[49m\u001b[38;5;124;43m\"\u001b[39;49m\u001b[38;5;124;43murl\u001b[39;49m\u001b[38;5;124;43m\"\u001b[39;49m\u001b[43m:\u001b[49m\u001b[43m \u001b[49m\u001b[43murl\u001b[49m\u001b[43m}\u001b[49m\u001b[43m)\u001b[49m\n",
      "File \u001b[0;32m~/anaconda3/lib/python3.11/site-packages/selenium/webdriver/remote/webdriver.py:347\u001b[0m, in \u001b[0;36mWebDriver.execute\u001b[0;34m(self, driver_command, params)\u001b[0m\n\u001b[1;32m    345\u001b[0m response \u001b[38;5;241m=\u001b[39m \u001b[38;5;28mself\u001b[39m\u001b[38;5;241m.\u001b[39mcommand_executor\u001b[38;5;241m.\u001b[39mexecute(driver_command, params)\n\u001b[1;32m    346\u001b[0m \u001b[38;5;28;01mif\u001b[39;00m response:\n\u001b[0;32m--> 347\u001b[0m     \u001b[38;5;28;43mself\u001b[39;49m\u001b[38;5;241;43m.\u001b[39;49m\u001b[43merror_handler\u001b[49m\u001b[38;5;241;43m.\u001b[39;49m\u001b[43mcheck_response\u001b[49m\u001b[43m(\u001b[49m\u001b[43mresponse\u001b[49m\u001b[43m)\u001b[49m\n\u001b[1;32m    348\u001b[0m     response[\u001b[38;5;124m\"\u001b[39m\u001b[38;5;124mvalue\u001b[39m\u001b[38;5;124m\"\u001b[39m] \u001b[38;5;241m=\u001b[39m \u001b[38;5;28mself\u001b[39m\u001b[38;5;241m.\u001b[39m_unwrap_value(response\u001b[38;5;241m.\u001b[39mget(\u001b[38;5;124m\"\u001b[39m\u001b[38;5;124mvalue\u001b[39m\u001b[38;5;124m\"\u001b[39m, \u001b[38;5;28;01mNone\u001b[39;00m))\n\u001b[1;32m    349\u001b[0m     \u001b[38;5;28;01mreturn\u001b[39;00m response\n",
      "File \u001b[0;32m~/anaconda3/lib/python3.11/site-packages/selenium/webdriver/remote/errorhandler.py:229\u001b[0m, in \u001b[0;36mErrorHandler.check_response\u001b[0;34m(self, response)\u001b[0m\n\u001b[1;32m    227\u001b[0m         alert_text \u001b[38;5;241m=\u001b[39m value[\u001b[38;5;124m\"\u001b[39m\u001b[38;5;124malert\u001b[39m\u001b[38;5;124m\"\u001b[39m]\u001b[38;5;241m.\u001b[39mget(\u001b[38;5;124m\"\u001b[39m\u001b[38;5;124mtext\u001b[39m\u001b[38;5;124m\"\u001b[39m)\n\u001b[1;32m    228\u001b[0m     \u001b[38;5;28;01mraise\u001b[39;00m exception_class(message, screen, stacktrace, alert_text)  \u001b[38;5;66;03m# type: ignore[call-arg]  # mypy is not smart enough here\u001b[39;00m\n\u001b[0;32m--> 229\u001b[0m \u001b[38;5;28;01mraise\u001b[39;00m exception_class(message, screen, stacktrace)\n",
      "\u001b[0;31mWebDriverException\u001b[0m: Message: disconnected: Unable to receive message from renderer\n  (failed to check if window was closed: disconnected: not connected to DevTools)\n  (Session info: chrome=124.0.6367.158)\nStacktrace:\n0   chromedriver                        0x00000001030baae8 chromedriver + 5217000\n1   chromedriver                        0x00000001030b2723 chromedriver + 5183267\n2   chromedriver                        0x0000000102c24527 chromedriver + 406823\n3   chromedriver                        0x0000000102c0be32 chromedriver + 306738\n4   chromedriver                        0x0000000102c0ba9c chromedriver + 305820\n5   chromedriver                        0x0000000102c09b7d chromedriver + 297853\n6   chromedriver                        0x0000000102c09e9a chromedriver + 298650\n7   chromedriver                        0x0000000102c26ebf chromedriver + 417471\n8   chromedriver                        0x0000000102cb2255 chromedriver + 987733\n9   chromedriver                        0x0000000102c92702 chromedriver + 857858\n10  chromedriver                        0x0000000102cb16bf chromedriver + 984767\n11  chromedriver                        0x0000000102c924a3 chromedriver + 857251\n12  chromedriver                        0x0000000102c62fe3 chromedriver + 663523\n13  chromedriver                        0x0000000102c6392e chromedriver + 665902\n14  chromedriver                        0x0000000103078a00 chromedriver + 4946432\n15  chromedriver                        0x000000010307eab4 chromedriver + 4971188\n16  chromedriver                        0x00000001030594fe chromedriver + 4818174\n17  chromedriver                        0x000000010307f5c9 chromedriver + 4974025\n18  chromedriver                        0x0000000103049784 chromedriver + 4753284\n19  chromedriver                        0x00000001030a1c78 chromedriver + 5115000\n20  chromedriver                        0x00000001030a1e37 chromedriver + 5115447\n21  chromedriver                        0x00000001030b2343 chromedriver + 5182275\n22  libsystem_pthread.dylib             0x00007ff811921202 _pthread_start + 99\n23  libsystem_pthread.dylib             0x00007ff81191cbab thread_start + 15\n"
     ]
    }
   ],
   "source": [
    "# Visit each link and extract the title and description\n",
    "\n",
    "titles = []\n",
    "descriptions = []\n",
    "\n",
    "for link in links:\n",
    "    # Create a webdriver instance\n",
    "    driver = webdriver.Chrome()\n",
    "\n",
    "    # Navigate to the first page of search results\n",
    "    driver.get(link)\n",
    "\n",
    "    try:\n",
    "        title_element = driver.find_element(By.CSS_SELECTOR, 'meta[property=\"og:title\"]')\n",
    "        title = title_element.get_attribute(\"content\")\n",
    "    except NoSuchElementException:\n",
    "        print(f\"Title element not found for {link}\")\n",
    "        continue\n",
    "\n",
    "    try:\n",
    "        description_element = driver.find_element(By.CSS_SELECTOR, 'div.content-inner')\n",
    "        paragraphs = description_element.find_elements(By.TAG_NAME, 'p')\n",
    "        description = ' '.join([p.text for p in paragraphs])\n",
    "    except NoSuchElementException:\n",
    "        print(f\"Description element not found for {link}\")\n",
    "        continue\n",
    "\n",
    "    titles.append(title)\n",
    "    descriptions.append(description)\n",
    "\n",
    "    driver.quit()\n"
   ]
  },
  {
   "cell_type": "code",
   "execution_count": 103,
   "id": "b76e7d6b-304f-45b3-b792-f04ab0f08512",
   "metadata": {
    "tags": []
   },
   "outputs": [
    {
     "data": {
      "text/plain": [
       "177"
      ]
     },
     "execution_count": 103,
     "metadata": {},
     "output_type": "execute_result"
    }
   ],
   "source": [
    "len(titles)"
   ]
  },
  {
   "cell_type": "code",
   "execution_count": 115,
   "id": "d9bd9adc-5fd9-4661-b0a8-6a53ef873316",
   "metadata": {
    "tags": []
   },
   "outputs": [],
   "source": [
    "titles_copy = titles\n",
    "descriptions_copy = descriptions"
   ]
  },
  {
   "cell_type": "code",
   "execution_count": 119,
   "id": "b3d1175f-31fa-469b-b4a3-5ba32dd05abb",
   "metadata": {
    "tags": []
   },
   "outputs": [
    {
     "data": {
      "text/plain": [
       "'\\nfor link in links[177:307]:\\n    # Create a webdriver instance\\n    driver = webdriver.Chrome()\\n\\n    # Navigate to the first page of search results\\n    driver.get(link)\\n\\n    try:\\n        title_element = driver.find_element(By.CSS_SELECTOR, \\'meta[property=\"og:title\"]\\')\\n        title = title_element.get_attribute(\"content\")\\n    except NoSuchElementException:\\n        print(f\"Title element not found for {link}\")\\n        continue\\n\\n    try:\\n        description_element = driver.find_element(By.CSS_SELECTOR, \\'div.content-inner\\')\\n        paragraphs = description_element.find_elements(By.TAG_NAME, \\'p\\')\\n        description = \\' \\'.join([p.text for p in paragraphs])\\n    except NoSuchElementException:\\n        print(f\"Description element not found for {link}\")\\n        continue\\n\\n    titles.append(title)\\n    descriptions.append(description)\\n\\n    driver.quit()\\n'"
      ]
     },
     "execution_count": 119,
     "metadata": {},
     "output_type": "execute_result"
    }
   ],
   "source": [
    "# Visit each link and extract the title and description from the 177th course\n",
    "\n",
    "for link in links[177:307]:\n",
    "    # Create a webdriver instance\n",
    "    driver = webdriver.Chrome()\n",
    "\n",
    "    # Navigate to the first page of search results\n",
    "    driver.get(link)\n",
    "\n",
    "    try:\n",
    "        title_element = driver.find_element(By.CSS_SELECTOR, 'meta[property=\"og:title\"]')\n",
    "        title = title_element.get_attribute(\"content\")\n",
    "    except NoSuchElementException:\n",
    "        print(f\"Title element not found for {link}\")\n",
    "        continue\n",
    "\n",
    "    try:\n",
    "        description_element = driver.find_element(By.CSS_SELECTOR, 'div.content-inner')\n",
    "        paragraphs = description_element.find_elements(By.TAG_NAME, 'p')\n",
    "        description = ' '.join([p.text for p in paragraphs])\n",
    "    except NoSuchElementException:\n",
    "        print(f\"Description element not found for {link}\")\n",
    "        continue\n",
    "\n",
    "    titles.append(title)\n",
    "    descriptions.append(description)\n",
    "\n",
    "    driver.quit()\n"
   ]
  },
  {
   "cell_type": "code",
   "execution_count": 112,
   "id": "e2baae43-225a-4d15-9667-4a5b7e288f89",
   "metadata": {
    "tags": []
   },
   "outputs": [],
   "source": [
    "coursera_df = pd.DataFrame(\n",
    "    {'Title': titles,\n",
    "     'Description': descriptions,\n",
    "     'Link': links[:307]})"
   ]
  },
  {
   "cell_type": "code",
   "execution_count": 113,
   "id": "6a592eb9-fe73-4538-8701-4459b7501d36",
   "metadata": {
    "tags": []
   },
   "outputs": [
    {
     "data": {
      "text/html": [
       "<div>\n",
       "<style scoped>\n",
       "    .dataframe tbody tr th:only-of-type {\n",
       "        vertical-align: middle;\n",
       "    }\n",
       "\n",
       "    .dataframe tbody tr th {\n",
       "        vertical-align: top;\n",
       "    }\n",
       "\n",
       "    .dataframe thead th {\n",
       "        text-align: right;\n",
       "    }\n",
       "</style>\n",
       "<table border=\"1\" class=\"dataframe\">\n",
       "  <thead>\n",
       "    <tr style=\"text-align: right;\">\n",
       "      <th></th>\n",
       "      <th>Title</th>\n",
       "      <th>Description</th>\n",
       "      <th>Link</th>\n",
       "    </tr>\n",
       "  </thead>\n",
       "  <tbody>\n",
       "    <tr>\n",
       "      <th>0</th>\n",
       "      <td>Computer Science: Programming with a Purpose</td>\n",
       "      <td>The basis for education in the last millennium...</td>\n",
       "      <td>https://www.coursera.org/learn/cs-programming-...</td>\n",
       "    </tr>\n",
       "    <tr>\n",
       "      <th>1</th>\n",
       "      <td>Computer Science:  Algorithms, Theory, and Mac...</td>\n",
       "      <td>This course  introduces the broader discipline...</td>\n",
       "      <td>https://www.coursera.org/learn/cs-algorithms-t...</td>\n",
       "    </tr>\n",
       "    <tr>\n",
       "      <th>2</th>\n",
       "      <td>HTML, CSS, and Javascript for Web Developers</td>\n",
       "      <td>Do you realize that the only functionality of ...</td>\n",
       "      <td>https://www.coursera.org/learn/html-css-javasc...</td>\n",
       "    </tr>\n",
       "    <tr>\n",
       "      <th>3</th>\n",
       "      <td>Learn to Program: The Fundamentals</td>\n",
       "      <td>Behind every mouse click and touch-screen tap,...</td>\n",
       "      <td>https://www.coursera.org/learn/learn-to-program</td>\n",
       "    </tr>\n",
       "    <tr>\n",
       "      <th>4</th>\n",
       "      <td>Introduction to Software Engineering</td>\n",
       "      <td>Are you curious about the lucrative field that...</td>\n",
       "      <td>https://www.coursera.org/learn/introduction-to...</td>\n",
       "    </tr>\n",
       "  </tbody>\n",
       "</table>\n",
       "</div>"
      ],
      "text/plain": [
       "                                               Title  \\\n",
       "0       Computer Science: Programming with a Purpose   \n",
       "1  Computer Science:  Algorithms, Theory, and Mac...   \n",
       "2       HTML, CSS, and Javascript for Web Developers   \n",
       "3                 Learn to Program: The Fundamentals   \n",
       "4               Introduction to Software Engineering   \n",
       "\n",
       "                                         Description  \\\n",
       "0  The basis for education in the last millennium...   \n",
       "1  This course  introduces the broader discipline...   \n",
       "2  Do you realize that the only functionality of ...   \n",
       "3  Behind every mouse click and touch-screen tap,...   \n",
       "4  Are you curious about the lucrative field that...   \n",
       "\n",
       "                                                Link  \n",
       "0  https://www.coursera.org/learn/cs-programming-...  \n",
       "1  https://www.coursera.org/learn/cs-algorithms-t...  \n",
       "2  https://www.coursera.org/learn/html-css-javasc...  \n",
       "3    https://www.coursera.org/learn/learn-to-program  \n",
       "4  https://www.coursera.org/learn/introduction-to...  "
      ]
     },
     "execution_count": 113,
     "metadata": {},
     "output_type": "execute_result"
    }
   ],
   "source": [
    "coursera_df.head()"
   ]
  },
  {
   "cell_type": "code",
   "execution_count": 114,
   "id": "552e8784-1905-4892-ad8f-17ad37e2e10f",
   "metadata": {
    "tags": []
   },
   "outputs": [],
   "source": [
    "coursera_df.to_csv('coursera_df_first307.csv')"
   ]
  },
  {
   "cell_type": "code",
   "execution_count": 129,
   "id": "c9e283dc-5366-4f3a-957f-11c5c91c69f3",
   "metadata": {
    "tags": []
   },
   "outputs": [],
   "source": [
    "# Visit each link and extract the title and description from the 307th course\n",
    "\n",
    "\n",
    "for link in links[307:500]:\n",
    "    # Create a webdriver instance\n",
    "    driver = webdriver.Chrome()\n",
    "\n",
    "    # Navigate to the first page of search results\n",
    "    driver.get(link)\n",
    "\n",
    "    try:\n",
    "        title_element = driver.find_element(By.CSS_SELECTOR, 'meta[property=\"og:title\"]')\n",
    "        title = title_element.get_attribute(\"content\")\n",
    "    except NoSuchElementException:\n",
    "        print(f\"Title element not found for {link}\")\n",
    "        continue\n",
    "\n",
    "    try:\n",
    "        description_element = driver.find_element(By.CSS_SELECTOR, 'div.content-inner')\n",
    "        paragraphs = description_element.find_elements(By.TAG_NAME, 'p')\n",
    "        description = ' '.join([p.text for p in paragraphs])\n",
    "    except NoSuchElementException:\n",
    "        print(f\"Description element not found for {link}\")\n",
    "        continue\n",
    "\n",
    "    titles.append(title)\n",
    "    descriptions.append(description)\n",
    "\n",
    "    driver.quit()\n"
   ]
  },
  {
   "cell_type": "code",
   "execution_count": 131,
   "id": "2dd4c795-0d30-4312-a350-347f934a8004",
   "metadata": {
    "tags": []
   },
   "outputs": [
    {
     "data": {
      "text/plain": [
       "504"
      ]
     },
     "execution_count": 131,
     "metadata": {},
     "output_type": "execute_result"
    }
   ],
   "source": [
    "len(descriptions)"
   ]
  },
  {
   "cell_type": "code",
   "execution_count": 132,
   "id": "feeb5eb1-6421-4cd0-bec2-89ff5bc39ae9",
   "metadata": {
    "tags": []
   },
   "outputs": [],
   "source": [
    "coursera_df = pd.DataFrame(\n",
    "    {'Title': titles,\n",
    "     'Description': descriptions,\n",
    "     'Link': links[:504]})"
   ]
  },
  {
   "cell_type": "code",
   "execution_count": 135,
   "id": "59edb020-3a3f-46f4-ad7c-b13f41e123c6",
   "metadata": {
    "tags": []
   },
   "outputs": [
    {
     "data": {
      "text/plain": [
       "(504, 3)"
      ]
     },
     "execution_count": 135,
     "metadata": {},
     "output_type": "execute_result"
    }
   ],
   "source": [
    "coursera_df.shape"
   ]
  },
  {
   "cell_type": "code",
   "execution_count": 136,
   "id": "6a51c174-2b4d-47a0-824c-8532fb20bc8f",
   "metadata": {
    "tags": []
   },
   "outputs": [],
   "source": [
    "coursera_df.to_csv('coursera_df_first504.csv')"
   ]
  },
  {
   "cell_type": "code",
   "execution_count": 146,
   "id": "2ec9646e-5f3b-453b-bdfb-38a29356a4ad",
   "metadata": {
    "tags": []
   },
   "outputs": [],
   "source": [
    "titles_copy = titles\n",
    "descriptions_copy = descriptions"
   ]
  },
  {
   "cell_type": "code",
   "execution_count": 148,
   "id": "79356709-52f4-4cb0-ae15-610d4da1f8d9",
   "metadata": {
    "tags": []
   },
   "outputs": [
    {
     "name": "stdout",
     "output_type": "stream",
     "text": [
      "Description element not found for https://www.coursera.org/learn/mobile-architecture\n"
     ]
    }
   ],
   "source": [
    "# Visit each link and extract the title and description from the 504th course\n",
    "\n",
    "\n",
    "for link in links[504:750]:\n",
    "    # Create a webdriver instance\n",
    "    driver = webdriver.Chrome()\n",
    "\n",
    "    # Navigate to the first page of search results\n",
    "    driver.get(link)\n",
    "\n",
    "    try:\n",
    "        title_element = driver.find_element(By.CSS_SELECTOR, 'meta[property=\"og:title\"]')\n",
    "        title = title_element.get_attribute(\"content\")\n",
    "    except NoSuchElementException:\n",
    "        print(f\"Title element not found for {link}\")\n",
    "        continue\n",
    "\n",
    "    try:\n",
    "        description_element = driver.find_element(By.CSS_SELECTOR, 'div.content-inner')\n",
    "        paragraphs = description_element.find_elements(By.TAG_NAME, 'p')\n",
    "        description = ' '.join([p.text for p in paragraphs])\n",
    "    except NoSuchElementException:\n",
    "        print(f\"Description element not found for {link}\")\n",
    "        continue\n",
    "        \n",
    "    course_link.append(link) \n",
    "    titles.append(title)\n",
    "    descriptions.append(description)\n",
    "\n",
    "    driver.quit()\n"
   ]
  },
  {
   "cell_type": "code",
   "execution_count": 149,
   "id": "e3612ecd-aba8-46a9-a99c-5a32d89eb240",
   "metadata": {
    "tags": []
   },
   "outputs": [
    {
     "data": {
      "text/plain": [
       "749"
      ]
     },
     "execution_count": 149,
     "metadata": {},
     "output_type": "execute_result"
    }
   ],
   "source": [
    "len(descriptions)"
   ]
  },
  {
   "cell_type": "code",
   "execution_count": 152,
   "id": "4271c681-f2ac-4ea6-bebf-6ac3bf67b59b",
   "metadata": {
    "tags": []
   },
   "outputs": [],
   "source": [
    "new_links = links"
   ]
  },
  {
   "cell_type": "code",
   "execution_count": 154,
   "id": "7ea7d601-ec5a-4b00-a85d-e2c708a82f00",
   "metadata": {
    "tags": []
   },
   "outputs": [],
   "source": [
    "new_links.remove(\"https://www.coursera.org/learn/mobile-architecture\")"
   ]
  },
  {
   "cell_type": "code",
   "execution_count": 155,
   "id": "ca421282-6e0d-4d4d-bfa9-32ec9af23254",
   "metadata": {
    "tags": []
   },
   "outputs": [],
   "source": [
    "coursera_df = pd.DataFrame(\n",
    "    {'Title': titles,\n",
    "     'Description': descriptions,\n",
    "     'Link': new_links[:749]})"
   ]
  },
  {
   "cell_type": "code",
   "execution_count": 156,
   "id": "a21edc6e-3e12-4663-9f08-762544c12cb2",
   "metadata": {
    "tags": []
   },
   "outputs": [],
   "source": [
    "coursera_df.to_csv('coursera_df_first749.csv')"
   ]
  },
  {
   "cell_type": "code",
   "execution_count": 157,
   "id": "f81cd974-72e1-46a4-975f-0ea68c3273c6",
   "metadata": {
    "tags": []
   },
   "outputs": [
    {
     "data": {
      "text/plain": [
       "(749, 3)"
      ]
     },
     "execution_count": 157,
     "metadata": {},
     "output_type": "execute_result"
    }
   ],
   "source": [
    "coursera_df.shape"
   ]
  },
  {
   "cell_type": "code",
   "execution_count": 159,
   "id": "7433c2fe-6f67-42c4-a4d2-908f0cff94e7",
   "metadata": {
    "tags": []
   },
   "outputs": [
    {
     "name": "stdout",
     "output_type": "stream",
     "text": [
      "Description element not found for https://www.coursera.org/learn/intro-practical-deep-learning\n"
     ]
    }
   ],
   "source": [
    "# Visit each link and extract the title and description from the 504th course\n",
    "course_link = []\n",
    "\n",
    "for link in links[749:]:\n",
    "    # Create a webdriver instance\n",
    "    driver = webdriver.Chrome()\n",
    "\n",
    "    # Navigate to the first page of search results\n",
    "    driver.get(link)\n",
    "\n",
    "    try:\n",
    "        title_element = driver.find_element(By.CSS_SELECTOR, 'meta[property=\"og:title\"]')\n",
    "        title = title_element.get_attribute(\"content\")\n",
    "    except NoSuchElementException:\n",
    "        print(f\"Title element not found for {link}\")\n",
    "        continue\n",
    "\n",
    "    try:\n",
    "        description_element = driver.find_element(By.CSS_SELECTOR, 'div.content-inner')\n",
    "        paragraphs = description_element.find_elements(By.TAG_NAME, 'p')\n",
    "        description = ' '.join([p.text for p in paragraphs])\n",
    "    except NoSuchElementException:\n",
    "        print(f\"Description element not found for {link}\")\n",
    "        continue\n",
    "        \n",
    "    course_link.append(link) \n",
    "    titles.append(title)\n",
    "    descriptions.append(description)\n",
    "\n",
    "    driver.quit()\n"
   ]
  },
  {
   "cell_type": "code",
   "execution_count": 166,
   "id": "ddab14a0-79a0-4252-877d-0d657292894a",
   "metadata": {
    "tags": []
   },
   "outputs": [],
   "source": [
    "new_links.remove(\"https://www.coursera.org/learn/intro-practical-deep-learning\")"
   ]
  },
  {
   "cell_type": "code",
   "execution_count": 167,
   "id": "e7ccfd25-3022-47f7-98c7-203bffa0e96b",
   "metadata": {
    "tags": []
   },
   "outputs": [],
   "source": [
    "coursera_df = pd.DataFrame(\n",
    "    {'Title': titles,\n",
    "     'Description': descriptions,\n",
    "     'Link': new_links})"
   ]
  },
  {
   "cell_type": "code",
   "execution_count": 168,
   "id": "072e04cc-e8a9-44f0-b29a-5d3728cdbc26",
   "metadata": {
    "tags": []
   },
   "outputs": [],
   "source": [
    "coursera_df.to_csv('coursera_df_all.csv')"
   ]
  },
  {
   "cell_type": "code",
   "execution_count": null,
   "id": "04524116-ef08-4164-9a4d-a5ab0720e44e",
   "metadata": {},
   "outputs": [],
   "source": []
  },
  {
   "cell_type": "markdown",
   "id": "103cc24a-7c16-4ead-bd4f-24ac6518ebc5",
   "metadata": {},
   "source": [
    "#### Fixing error between rows 307-504 in link and title alignment "
   ]
  },
  {
   "cell_type": "code",
   "execution_count": 183,
   "id": "137a1cdc-946a-442e-8561-80338e35ddec",
   "metadata": {
    "tags": []
   },
   "outputs": [],
   "source": [
    "coursera_df_copy = coursera_df.copy() "
   ]
  },
  {
   "cell_type": "code",
   "execution_count": 184,
   "id": "d9cd1409-4b0f-4ad1-a652-8244f9d04cdb",
   "metadata": {
    "tags": []
   },
   "outputs": [
    {
     "data": {
      "text/html": [
       "<div>\n",
       "<style scoped>\n",
       "    .dataframe tbody tr th:only-of-type {\n",
       "        vertical-align: middle;\n",
       "    }\n",
       "\n",
       "    .dataframe tbody tr th {\n",
       "        vertical-align: top;\n",
       "    }\n",
       "\n",
       "    .dataframe thead th {\n",
       "        text-align: right;\n",
       "    }\n",
       "</style>\n",
       "<table border=\"1\" class=\"dataframe\">\n",
       "  <thead>\n",
       "    <tr style=\"text-align: right;\">\n",
       "      <th></th>\n",
       "      <th>Title</th>\n",
       "      <th>Description</th>\n",
       "      <th>Link</th>\n",
       "    </tr>\n",
       "  </thead>\n",
       "  <tbody>\n",
       "    <tr>\n",
       "      <th>0</th>\n",
       "      <td>Computer Science: Programming with a Purpose</td>\n",
       "      <td>The basis for education in the last millennium...</td>\n",
       "      <td>https://www.coursera.org/learn/cs-programming-...</td>\n",
       "    </tr>\n",
       "    <tr>\n",
       "      <th>1</th>\n",
       "      <td>Computer Science:  Algorithms, Theory, and Mac...</td>\n",
       "      <td>This course  introduces the broader discipline...</td>\n",
       "      <td>https://www.coursera.org/learn/cs-algorithms-t...</td>\n",
       "    </tr>\n",
       "    <tr>\n",
       "      <th>2</th>\n",
       "      <td>HTML, CSS, and Javascript for Web Developers</td>\n",
       "      <td>Do you realize that the only functionality of ...</td>\n",
       "      <td>https://www.coursera.org/learn/html-css-javasc...</td>\n",
       "    </tr>\n",
       "    <tr>\n",
       "      <th>3</th>\n",
       "      <td>Learn to Program: The Fundamentals</td>\n",
       "      <td>Behind every mouse click and touch-screen tap,...</td>\n",
       "      <td>https://www.coursera.org/learn/learn-to-program</td>\n",
       "    </tr>\n",
       "    <tr>\n",
       "      <th>4</th>\n",
       "      <td>Introduction to Software Engineering</td>\n",
       "      <td>Are you curious about the lucrative field that...</td>\n",
       "      <td>https://www.coursera.org/learn/introduction-to...</td>\n",
       "    </tr>\n",
       "  </tbody>\n",
       "</table>\n",
       "</div>"
      ],
      "text/plain": [
       "                                               Title  \\\n",
       "0       Computer Science: Programming with a Purpose   \n",
       "1  Computer Science:  Algorithms, Theory, and Mac...   \n",
       "2       HTML, CSS, and Javascript for Web Developers   \n",
       "3                 Learn to Program: The Fundamentals   \n",
       "4               Introduction to Software Engineering   \n",
       "\n",
       "                                         Description  \\\n",
       "0  The basis for education in the last millennium...   \n",
       "1  This course  introduces the broader discipline...   \n",
       "2  Do you realize that the only functionality of ...   \n",
       "3  Behind every mouse click and touch-screen tap,...   \n",
       "4  Are you curious about the lucrative field that...   \n",
       "\n",
       "                                                Link  \n",
       "0  https://www.coursera.org/learn/cs-programming-...  \n",
       "1  https://www.coursera.org/learn/cs-algorithms-t...  \n",
       "2  https://www.coursera.org/learn/html-css-javasc...  \n",
       "3    https://www.coursera.org/learn/learn-to-program  \n",
       "4  https://www.coursera.org/learn/introduction-to...  "
      ]
     },
     "execution_count": 184,
     "metadata": {},
     "output_type": "execute_result"
    }
   ],
   "source": [
    "coursera_df_copy.head()"
   ]
  },
  {
   "cell_type": "code",
   "execution_count": 188,
   "id": "d68588d5-0d05-4bc5-9399-5ba6b1800e9c",
   "metadata": {
    "tags": []
   },
   "outputs": [],
   "source": [
    "coursera_df_copy.drop(coursera_df_copy.index[307:504], inplace=True)"
   ]
  },
  {
   "cell_type": "code",
   "execution_count": 190,
   "id": "5e3104db-3960-42ec-bbe4-891fb8467a4c",
   "metadata": {
    "tags": []
   },
   "outputs": [],
   "source": [
    "coursera_df_copy.to_csv('testydrop.csv')"
   ]
  },
  {
   "cell_type": "code",
   "execution_count": 176,
   "id": "1f80c85a-1956-4af7-b909-eae08ad1d742",
   "metadata": {
    "tags": []
   },
   "outputs": [
    {
     "data": {
      "text/html": [
       "<div>\n",
       "<style scoped>\n",
       "    .dataframe tbody tr th:only-of-type {\n",
       "        vertical-align: middle;\n",
       "    }\n",
       "\n",
       "    .dataframe tbody tr th {\n",
       "        vertical-align: top;\n",
       "    }\n",
       "\n",
       "    .dataframe thead th {\n",
       "        text-align: right;\n",
       "    }\n",
       "</style>\n",
       "<table border=\"1\" class=\"dataframe\">\n",
       "  <thead>\n",
       "    <tr style=\"text-align: right;\">\n",
       "      <th></th>\n",
       "      <th>Title</th>\n",
       "      <th>Description</th>\n",
       "      <th>Link</th>\n",
       "    </tr>\n",
       "  </thead>\n",
       "  <tbody>\n",
       "    <tr>\n",
       "      <th>307</th>\n",
       "      <td>Continuous Integration and Continuous Delivery...</td>\n",
       "      <td>A principle of DevOps is to replace manual pro...</td>\n",
       "      <td>https://www.coursera.org/learn/data-structures...</td>\n",
       "    </tr>\n",
       "    <tr>\n",
       "      <th>308</th>\n",
       "      <td>Agile Planning for Software Products</td>\n",
       "      <td>This course covers the techniques required to ...</td>\n",
       "      <td>https://www.coursera.org/learn/cloud-native-de...</td>\n",
       "    </tr>\n",
       "    <tr>\n",
       "      <th>309</th>\n",
       "      <td>Back-End Developer Capstone</td>\n",
       "      <td>The Capstone project enables you to demonstrat...</td>\n",
       "      <td>https://www.coursera.org/learn/linux-kernel-pr...</td>\n",
       "    </tr>\n",
       "    <tr>\n",
       "      <th>310</th>\n",
       "      <td>Full Stack Software Developer Assessment</td>\n",
       "      <td>This is the final course in the IBM Full Stack...</td>\n",
       "      <td>https://www.coursera.org/learn/arm-cortex-m-pr...</td>\n",
       "    </tr>\n",
       "    <tr>\n",
       "      <th>311</th>\n",
       "      <td>Data Structures and Performance</td>\n",
       "      <td>How do Java programs deal with vast quantities...</td>\n",
       "      <td>https://www.coursera.org/learn/blockchain-cryp...</td>\n",
       "    </tr>\n",
       "    <tr>\n",
       "      <th>...</th>\n",
       "      <td>...</td>\n",
       "      <td>...</td>\n",
       "      <td>...</td>\n",
       "    </tr>\n",
       "    <tr>\n",
       "      <th>499</th>\n",
       "      <td>Python Data Representations</td>\n",
       "      <td>This course will continue the introduction to ...</td>\n",
       "      <td>https://www.coursera.org/learn/c-programming-l...</td>\n",
       "    </tr>\n",
       "    <tr>\n",
       "      <th>500</th>\n",
       "      <td>Introduction To Swift Programming</td>\n",
       "      <td>Introduction to Swift Programming is the first...</td>\n",
       "      <td>https://www.coursera.org/learn/openais-assista...</td>\n",
       "    </tr>\n",
       "    <tr>\n",
       "      <th>501</th>\n",
       "      <td>Requirements Gathering for Secure Software Dev...</td>\n",
       "      <td>In Software Requirements Elicitation for Secur...</td>\n",
       "      <td>https://www.coursera.org/learn/front-end-devel...</td>\n",
       "    </tr>\n",
       "    <tr>\n",
       "      <th>502</th>\n",
       "      <td>Learn JavaScript</td>\n",
       "      <td>This is perhaps the most interactive JavaScrip...</td>\n",
       "      <td>https://www.coursera.org/learn/restful-apis-wi...</td>\n",
       "    </tr>\n",
       "    <tr>\n",
       "      <th>503</th>\n",
       "      <td>C Programming: Language Foundations - 2</td>\n",
       "      <td>In this course you will learn to use logical s...</td>\n",
       "      <td>https://www.coursera.org/learn/build-ai-apps-w...</td>\n",
       "    </tr>\n",
       "  </tbody>\n",
       "</table>\n",
       "<p>197 rows × 3 columns</p>\n",
       "</div>"
      ],
      "text/plain": [
       "                                                 Title  \\\n",
       "307  Continuous Integration and Continuous Delivery...   \n",
       "308               Agile Planning for Software Products   \n",
       "309                       Back-End Developer Capstone    \n",
       "310           Full Stack Software Developer Assessment   \n",
       "311                    Data Structures and Performance   \n",
       "..                                                 ...   \n",
       "499                        Python Data Representations   \n",
       "500                  Introduction To Swift Programming   \n",
       "501  Requirements Gathering for Secure Software Dev...   \n",
       "502                                   Learn JavaScript   \n",
       "503            C Programming: Language Foundations - 2   \n",
       "\n",
       "                                           Description  \\\n",
       "307  A principle of DevOps is to replace manual pro...   \n",
       "308  This course covers the techniques required to ...   \n",
       "309  The Capstone project enables you to demonstrat...   \n",
       "310  This is the final course in the IBM Full Stack...   \n",
       "311  How do Java programs deal with vast quantities...   \n",
       "..                                                 ...   \n",
       "499  This course will continue the introduction to ...   \n",
       "500  Introduction to Swift Programming is the first...   \n",
       "501  In Software Requirements Elicitation for Secur...   \n",
       "502  This is perhaps the most interactive JavaScrip...   \n",
       "503  In this course you will learn to use logical s...   \n",
       "\n",
       "                                                  Link  \n",
       "307  https://www.coursera.org/learn/data-structures...  \n",
       "308  https://www.coursera.org/learn/cloud-native-de...  \n",
       "309  https://www.coursera.org/learn/linux-kernel-pr...  \n",
       "310  https://www.coursera.org/learn/arm-cortex-m-pr...  \n",
       "311  https://www.coursera.org/learn/blockchain-cryp...  \n",
       "..                                                 ...  \n",
       "499  https://www.coursera.org/learn/c-programming-l...  \n",
       "500  https://www.coursera.org/learn/openais-assista...  \n",
       "501  https://www.coursera.org/learn/front-end-devel...  \n",
       "502  https://www.coursera.org/learn/restful-apis-wi...  \n",
       "503  https://www.coursera.org/learn/build-ai-apps-w...  \n",
       "\n",
       "[197 rows x 3 columns]"
      ]
     },
     "execution_count": 176,
     "metadata": {},
     "output_type": "execute_result"
    }
   ],
   "source": [
    "coursera_df[307:504]"
   ]
  },
  {
   "cell_type": "code",
   "execution_count": 192,
   "id": "e1744151-694e-4990-bbf9-322de25c3b86",
   "metadata": {
    "tags": []
   },
   "outputs": [
    {
     "data": {
      "text/html": [
       "<div>\n",
       "<style scoped>\n",
       "    .dataframe tbody tr th:only-of-type {\n",
       "        vertical-align: middle;\n",
       "    }\n",
       "\n",
       "    .dataframe tbody tr th {\n",
       "        vertical-align: top;\n",
       "    }\n",
       "\n",
       "    .dataframe thead th {\n",
       "        text-align: right;\n",
       "    }\n",
       "</style>\n",
       "<table border=\"1\" class=\"dataframe\">\n",
       "  <thead>\n",
       "    <tr style=\"text-align: right;\">\n",
       "      <th></th>\n",
       "      <th>Title</th>\n",
       "      <th>Description</th>\n",
       "      <th>Link</th>\n",
       "    </tr>\n",
       "  </thead>\n",
       "  <tbody>\n",
       "    <tr>\n",
       "      <th>306</th>\n",
       "      <td>Artificial Creativity</td>\n",
       "      <td>Released in June 2021, Artificial Creativity e...</td>\n",
       "      <td>https://www.coursera.org/learn/artificial-crea...</td>\n",
       "    </tr>\n",
       "  </tbody>\n",
       "</table>\n",
       "</div>"
      ],
      "text/plain": [
       "                     Title                                        Description  \\\n",
       "306  Artificial Creativity  Released in June 2021, Artificial Creativity e...   \n",
       "\n",
       "                                                  Link  \n",
       "306  https://www.coursera.org/learn/artificial-crea...  "
      ]
     },
     "execution_count": 192,
     "metadata": {},
     "output_type": "execute_result"
    }
   ],
   "source": [
    "coursera_df[306:307]"
   ]
  },
  {
   "cell_type": "code",
   "execution_count": 177,
   "id": "ccc38767-65d9-4a32-b913-e0a8c10ea743",
   "metadata": {
    "tags": []
   },
   "outputs": [
    {
     "data": {
      "text/html": [
       "<div>\n",
       "<style scoped>\n",
       "    .dataframe tbody tr th:only-of-type {\n",
       "        vertical-align: middle;\n",
       "    }\n",
       "\n",
       "    .dataframe tbody tr th {\n",
       "        vertical-align: top;\n",
       "    }\n",
       "\n",
       "    .dataframe thead th {\n",
       "        text-align: right;\n",
       "    }\n",
       "</style>\n",
       "<table border=\"1\" class=\"dataframe\">\n",
       "  <thead>\n",
       "    <tr style=\"text-align: right;\">\n",
       "      <th></th>\n",
       "      <th>Title</th>\n",
       "      <th>Description</th>\n",
       "      <th>Link</th>\n",
       "    </tr>\n",
       "  </thead>\n",
       "  <tbody>\n",
       "    <tr>\n",
       "      <th>504</th>\n",
       "      <td>Advanced Threat Hunting and Incident Response</td>\n",
       "      <td>In the ever-evolving landscape of cybersecurit...</td>\n",
       "      <td>https://www.coursera.org/learn/advanced-networ...</td>\n",
       "    </tr>\n",
       "  </tbody>\n",
       "</table>\n",
       "</div>"
      ],
      "text/plain": [
       "                                             Title  \\\n",
       "504  Advanced Threat Hunting and Incident Response   \n",
       "\n",
       "                                           Description  \\\n",
       "504  In the ever-evolving landscape of cybersecurit...   \n",
       "\n",
       "                                                  Link  \n",
       "504  https://www.coursera.org/learn/advanced-networ...  "
      ]
     },
     "execution_count": 177,
     "metadata": {},
     "output_type": "execute_result"
    }
   ],
   "source": [
    "coursera_df[504:505]"
   ]
  },
  {
   "cell_type": "code",
   "execution_count": 197,
   "id": "aa8d1ae8-b506-450e-9c88-f2f8b6cc0abe",
   "metadata": {
    "tags": []
   },
   "outputs": [],
   "source": [
    "link_patch = links[307:504]"
   ]
  },
  {
   "cell_type": "code",
   "execution_count": 198,
   "id": "011c8145-fea1-473c-88c0-852f9d58d8bf",
   "metadata": {
    "tags": []
   },
   "outputs": [],
   "source": [
    "# Visit each link and extract the title and description from 307 - 504th course\n",
    "\n",
    "patch_title = []\n",
    "patch_descr = []\n",
    "\n",
    "for link in link_patch:\n",
    "    # Create a webdriver instance\n",
    "    driver = webdriver.Chrome()\n",
    "\n",
    "    # Navigate to the first page of search results\n",
    "    driver.get(link)\n",
    "\n",
    "    try:\n",
    "        title_element = driver.find_element(By.CSS_SELECTOR, 'meta[property=\"og:title\"]')\n",
    "        title = title_element.get_attribute(\"content\")\n",
    "    except NoSuchElementException:\n",
    "        print(f\"Title element not found for {link}\")\n",
    "        continue\n",
    "\n",
    "    try:\n",
    "        description_element = driver.find_element(By.CSS_SELECTOR, 'div.content-inner')\n",
    "        paragraphs = description_element.find_elements(By.TAG_NAME, 'p')\n",
    "        description = ' '.join([p.text for p in paragraphs])\n",
    "    except NoSuchElementException:\n",
    "        print(f\"Description element not found for {link}\")\n",
    "        continue\n",
    "        \n",
    "    patch_title.append(title)\n",
    "    patch_descr.append(description)\n",
    "\n",
    "    driver.quit()\n"
   ]
  },
  {
   "cell_type": "code",
   "execution_count": 199,
   "id": "b2488bda-8ea8-4936-9399-25fc609e9384",
   "metadata": {
    "tags": []
   },
   "outputs": [],
   "source": [
    "patch_df = pd.DataFrame(\n",
    "    {'Title': patch_title,\n",
    "     'Description': patch_descr,\n",
    "     'Link': link_patch})"
   ]
  },
  {
   "cell_type": "code",
   "execution_count": 200,
   "id": "717249e6-5c53-4b33-80cf-3de0ac97b8e3",
   "metadata": {
    "tags": []
   },
   "outputs": [
    {
     "data": {
      "text/html": [
       "<div>\n",
       "<style scoped>\n",
       "    .dataframe tbody tr th:only-of-type {\n",
       "        vertical-align: middle;\n",
       "    }\n",
       "\n",
       "    .dataframe tbody tr th {\n",
       "        vertical-align: top;\n",
       "    }\n",
       "\n",
       "    .dataframe thead th {\n",
       "        text-align: right;\n",
       "    }\n",
       "</style>\n",
       "<table border=\"1\" class=\"dataframe\">\n",
       "  <thead>\n",
       "    <tr style=\"text-align: right;\">\n",
       "      <th></th>\n",
       "      <th>Title</th>\n",
       "      <th>Description</th>\n",
       "      <th>Link</th>\n",
       "    </tr>\n",
       "  </thead>\n",
       "  <tbody>\n",
       "    <tr>\n",
       "      <th>0</th>\n",
       "      <td>Data Structures and Performance</td>\n",
       "      <td>How do Java programs deal with vast quantities...</td>\n",
       "      <td>https://www.coursera.org/learn/data-structures...</td>\n",
       "    </tr>\n",
       "    <tr>\n",
       "      <th>1</th>\n",
       "      <td>Get Started with Cloud Native, DevOps, Agile, ...</td>\n",
       "      <td>Would you like to explore the complete process...</td>\n",
       "      <td>https://www.coursera.org/learn/cloud-native-de...</td>\n",
       "    </tr>\n",
       "    <tr>\n",
       "      <th>2</th>\n",
       "      <td>Linux Kernel Programming and Introduction to Y...</td>\n",
       "      <td>This course provides an introduction to Kernel...</td>\n",
       "      <td>https://www.coursera.org/learn/linux-kernel-pr...</td>\n",
       "    </tr>\n",
       "    <tr>\n",
       "      <th>3</th>\n",
       "      <td>Arm Cortex-M Processors Overview</td>\n",
       "      <td>This course is designed for anyone wishing to ...</td>\n",
       "      <td>https://www.coursera.org/learn/arm-cortex-m-pr...</td>\n",
       "    </tr>\n",
       "    <tr>\n",
       "      <th>4</th>\n",
       "      <td>Blockchain, Cryptoassets, and Decentralized Fi...</td>\n",
       "      <td>Today, large intermediaries establish trust in...</td>\n",
       "      <td>https://www.coursera.org/learn/blockchain-cryp...</td>\n",
       "    </tr>\n",
       "  </tbody>\n",
       "</table>\n",
       "</div>"
      ],
      "text/plain": [
       "                                               Title  \\\n",
       "0                    Data Structures and Performance   \n",
       "1  Get Started with Cloud Native, DevOps, Agile, ...   \n",
       "2  Linux Kernel Programming and Introduction to Y...   \n",
       "3                   Arm Cortex-M Processors Overview   \n",
       "4  Blockchain, Cryptoassets, and Decentralized Fi...   \n",
       "\n",
       "                                         Description  \\\n",
       "0  How do Java programs deal with vast quantities...   \n",
       "1  Would you like to explore the complete process...   \n",
       "2  This course provides an introduction to Kernel...   \n",
       "3  This course is designed for anyone wishing to ...   \n",
       "4  Today, large intermediaries establish trust in...   \n",
       "\n",
       "                                                Link  \n",
       "0  https://www.coursera.org/learn/data-structures...  \n",
       "1  https://www.coursera.org/learn/cloud-native-de...  \n",
       "2  https://www.coursera.org/learn/linux-kernel-pr...  \n",
       "3  https://www.coursera.org/learn/arm-cortex-m-pr...  \n",
       "4  https://www.coursera.org/learn/blockchain-cryp...  "
      ]
     },
     "execution_count": 200,
     "metadata": {},
     "output_type": "execute_result"
    }
   ],
   "source": [
    "patch_df.head()"
   ]
  },
  {
   "cell_type": "code",
   "execution_count": 201,
   "id": "87e43d8d-c072-49a4-9a38-ee911ad95fb6",
   "metadata": {
    "tags": []
   },
   "outputs": [
    {
     "data": {
      "text/html": [
       "<div>\n",
       "<style scoped>\n",
       "    .dataframe tbody tr th:only-of-type {\n",
       "        vertical-align: middle;\n",
       "    }\n",
       "\n",
       "    .dataframe tbody tr th {\n",
       "        vertical-align: top;\n",
       "    }\n",
       "\n",
       "    .dataframe thead th {\n",
       "        text-align: right;\n",
       "    }\n",
       "</style>\n",
       "<table border=\"1\" class=\"dataframe\">\n",
       "  <thead>\n",
       "    <tr style=\"text-align: right;\">\n",
       "      <th></th>\n",
       "      <th>Title</th>\n",
       "      <th>Description</th>\n",
       "      <th>Link</th>\n",
       "    </tr>\n",
       "  </thead>\n",
       "  <tbody>\n",
       "    <tr>\n",
       "      <th>192</th>\n",
       "      <td>C Programming: Language Foundations - 2</td>\n",
       "      <td>In this course you will learn to use logical s...</td>\n",
       "      <td>https://www.coursera.org/learn/c-programming-l...</td>\n",
       "    </tr>\n",
       "    <tr>\n",
       "      <th>193</th>\n",
       "      <td>Learn OpenAI's Assistant API</td>\n",
       "      <td>Upon completion this course, learners will obt...</td>\n",
       "      <td>https://www.coursera.org/learn/openais-assista...</td>\n",
       "    </tr>\n",
       "    <tr>\n",
       "      <th>194</th>\n",
       "      <td>Front-End Development Capstone Project</td>\n",
       "      <td>According to internetlivestats.com, there are ...</td>\n",
       "      <td>https://www.coursera.org/learn/front-end-devel...</td>\n",
       "    </tr>\n",
       "    <tr>\n",
       "      <th>195</th>\n",
       "      <td>Building RESTful APIs with Node.js and Express</td>\n",
       "      <td>This course will teach you how to build RESTfu...</td>\n",
       "      <td>https://www.coursera.org/learn/restful-apis-wi...</td>\n",
       "    </tr>\n",
       "    <tr>\n",
       "      <th>196</th>\n",
       "      <td>Build AI Apps with LangChain.js</td>\n",
       "      <td>This course is meticulously designed to naviga...</td>\n",
       "      <td>https://www.coursera.org/learn/build-ai-apps-w...</td>\n",
       "    </tr>\n",
       "  </tbody>\n",
       "</table>\n",
       "</div>"
      ],
      "text/plain": [
       "                                              Title  \\\n",
       "192         C Programming: Language Foundations - 2   \n",
       "193                    Learn OpenAI's Assistant API   \n",
       "194          Front-End Development Capstone Project   \n",
       "195  Building RESTful APIs with Node.js and Express   \n",
       "196                 Build AI Apps with LangChain.js   \n",
       "\n",
       "                                           Description  \\\n",
       "192  In this course you will learn to use logical s...   \n",
       "193  Upon completion this course, learners will obt...   \n",
       "194  According to internetlivestats.com, there are ...   \n",
       "195  This course will teach you how to build RESTfu...   \n",
       "196  This course is meticulously designed to naviga...   \n",
       "\n",
       "                                                  Link  \n",
       "192  https://www.coursera.org/learn/c-programming-l...  \n",
       "193  https://www.coursera.org/learn/openais-assista...  \n",
       "194  https://www.coursera.org/learn/front-end-devel...  \n",
       "195  https://www.coursera.org/learn/restful-apis-wi...  \n",
       "196  https://www.coursera.org/learn/build-ai-apps-w...  "
      ]
     },
     "execution_count": 201,
     "metadata": {},
     "output_type": "execute_result"
    }
   ],
   "source": [
    "patch_df.tail()"
   ]
  },
  {
   "cell_type": "code",
   "execution_count": 202,
   "id": "89ee1700-ccde-4bc6-81ff-22287925a3ca",
   "metadata": {
    "tags": []
   },
   "outputs": [],
   "source": [
    "patch_df.to_csv('patch_df.csv')"
   ]
  },
  {
   "cell_type": "code",
   "execution_count": 203,
   "id": "25441a68-603d-486b-94fb-bb8827d214cc",
   "metadata": {
    "tags": []
   },
   "outputs": [],
   "source": [
    "patched_baby = pd.concat([coursera_df_copy, patch_df], ignore_index=True)  "
   ]
  },
  {
   "cell_type": "code",
   "execution_count": 204,
   "id": "dc038c24-2379-4e6a-8a3a-208745a862f9",
   "metadata": {
    "tags": []
   },
   "outputs": [],
   "source": [
    "patched_baby.to_csv('patched_baby.csv')"
   ]
  },
  {
   "cell_type": "code",
   "execution_count": null,
   "id": "5c471fad-dccc-4026-a803-df06109a205e",
   "metadata": {},
   "outputs": [],
   "source": []
  }
 ],
 "metadata": {
  "kernelspec": {
   "display_name": "Python 3 (ipykernel)",
   "language": "python",
   "name": "python3"
  },
  "language_info": {
   "codemirror_mode": {
    "name": "ipython",
    "version": 3
   },
   "file_extension": ".py",
   "mimetype": "text/x-python",
   "name": "python",
   "nbconvert_exporter": "python",
   "pygments_lexer": "ipython3",
   "version": "3.11.4"
  }
 },
 "nbformat": 4,
 "nbformat_minor": 5
}
