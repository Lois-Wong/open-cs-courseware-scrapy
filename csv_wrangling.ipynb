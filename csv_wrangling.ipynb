{
 "cells": [
  {
   "cell_type": "code",
   "execution_count": 111,
   "id": "c9863a3e-18a5-48db-9f71-2dfedcfd79ba",
   "metadata": {
    "tags": []
   },
   "outputs": [],
   "source": [
    "import re\n",
    "import time \n",
    "import logging\n",
    "import requests\n",
    "import re\n",
    "import sys\n",
    "from bs4 import BeautifulSoup\n",
    "from queue import Queue\n",
    "from urllib import parse, request\n",
    "from urllib.parse import urlparse\n",
    "import heapq\n",
    "from selenium import webdriver \n",
    "from selenium.webdriver.common.keys import Keys\n",
    "import pandas as pd\n",
    "from selenium.webdriver.common.by import By\n",
    "from selenium.webdriver.support.ui import WebDriverWait\n",
    "from selenium.webdriver.support import expected_conditions as EC"
   ]
  },
  {
   "cell_type": "code",
   "execution_count": 112,
   "id": "3f160532-9c71-4a7e-b4d7-7690e63bf6ae",
   "metadata": {
    "tags": []
   },
   "outputs": [],
   "source": [
    "mit_df = pd.read_csv(\"/Users/loiswong/Downloads/jhu-ir-hw/final/course_df_new.csv\")"
   ]
  },
  {
   "cell_type": "code",
   "execution_count": 113,
   "id": "95810f8d-7667-464b-8b41-7988fe052f6e",
   "metadata": {
    "tags": []
   },
   "outputs": [],
   "source": [
    "coursera_df = pd.read_csv(\"/Users/loiswong/Downloads/jhu-ir-hw/final/coursera_df_first749.csv\")"
   ]
  },
  {
   "cell_type": "code",
   "execution_count": 114,
   "id": "9d9e6c41-6977-4ac8-af56-353b5cb569e5",
   "metadata": {
    "tags": []
   },
   "outputs": [
    {
     "data": {
      "text/html": [
       "<div>\n",
       "<style scoped>\n",
       "    .dataframe tbody tr th:only-of-type {\n",
       "        vertical-align: middle;\n",
       "    }\n",
       "\n",
       "    .dataframe tbody tr th {\n",
       "        vertical-align: top;\n",
       "    }\n",
       "\n",
       "    .dataframe thead th {\n",
       "        text-align: right;\n",
       "    }\n",
       "</style>\n",
       "<table border=\"1\" class=\"dataframe\">\n",
       "  <thead>\n",
       "    <tr style=\"text-align: right;\">\n",
       "      <th></th>\n",
       "      <th>Unnamed: 0.1</th>\n",
       "      <th>Unnamed: 0</th>\n",
       "      <th>Title</th>\n",
       "      <th>Description</th>\n",
       "      <th>Link</th>\n",
       "    </tr>\n",
       "  </thead>\n",
       "  <tbody>\n",
       "    <tr>\n",
       "      <th>0</th>\n",
       "      <td>0</td>\n",
       "      <td>0</td>\n",
       "      <td>Mathematics for Computer Science</td>\n",
       "      <td>This course covers elementary discrete mathema...</td>\n",
       "      <td>https://ocw.mit.edu/courses/6-042j-mathematics...</td>\n",
       "    </tr>\n",
       "    <tr>\n",
       "      <th>1</th>\n",
       "      <td>1</td>\n",
       "      <td>1</td>\n",
       "      <td>Mathematics for Computer Science</td>\n",
       "      <td>This is an introductory course in Discrete Mat...</td>\n",
       "      <td>https://ocw.mit.edu/courses/6-042j-mathematics...</td>\n",
       "    </tr>\n",
       "    <tr>\n",
       "      <th>2</th>\n",
       "      <td>2</td>\n",
       "      <td>2</td>\n",
       "      <td>Mathematics for Computer Science</td>\n",
       "      <td>This subject offers an interactive introductio...</td>\n",
       "      <td>https://ocw.mit.edu/courses/6-042j-mathematics...</td>\n",
       "    </tr>\n",
       "    <tr>\n",
       "      <th>3</th>\n",
       "      <td>3</td>\n",
       "      <td>3</td>\n",
       "      <td>Computational Cognitive Science</td>\n",
       "      <td>This course is an introduction to computationa...</td>\n",
       "      <td>https://ocw.mit.edu/courses/9-66j-computationa...</td>\n",
       "    </tr>\n",
       "    <tr>\n",
       "      <th>4</th>\n",
       "      <td>4</td>\n",
       "      <td>4</td>\n",
       "      <td>Introduction to Computer Science and Programming</td>\n",
       "      <td>6.00 Intro to CS and Programming has been reti...</td>\n",
       "      <td>https://ocw.mit.edu/courses/6-00-introduction-...</td>\n",
       "    </tr>\n",
       "  </tbody>\n",
       "</table>\n",
       "</div>"
      ],
      "text/plain": [
       "   Unnamed: 0.1  Unnamed: 0                                             Title  \\\n",
       "0             0           0                  Mathematics for Computer Science   \n",
       "1             1           1                  Mathematics for Computer Science   \n",
       "2             2           2                  Mathematics for Computer Science   \n",
       "3             3           3                   Computational Cognitive Science   \n",
       "4             4           4  Introduction to Computer Science and Programming   \n",
       "\n",
       "                                         Description  \\\n",
       "0  This course covers elementary discrete mathema...   \n",
       "1  This is an introductory course in Discrete Mat...   \n",
       "2  This subject offers an interactive introductio...   \n",
       "3  This course is an introduction to computationa...   \n",
       "4  6.00 Intro to CS and Programming has been reti...   \n",
       "\n",
       "                                                Link  \n",
       "0  https://ocw.mit.edu/courses/6-042j-mathematics...  \n",
       "1  https://ocw.mit.edu/courses/6-042j-mathematics...  \n",
       "2  https://ocw.mit.edu/courses/6-042j-mathematics...  \n",
       "3  https://ocw.mit.edu/courses/9-66j-computationa...  \n",
       "4  https://ocw.mit.edu/courses/6-00-introduction-...  "
      ]
     },
     "execution_count": 114,
     "metadata": {},
     "output_type": "execute_result"
    }
   ],
   "source": [
    "mit_df.head()"
   ]
  },
  {
   "cell_type": "code",
   "execution_count": 115,
   "id": "a51aeb84-3926-4327-8776-11265148ee83",
   "metadata": {
    "tags": []
   },
   "outputs": [
    {
     "data": {
      "text/html": [
       "<div>\n",
       "<style scoped>\n",
       "    .dataframe tbody tr th:only-of-type {\n",
       "        vertical-align: middle;\n",
       "    }\n",
       "\n",
       "    .dataframe tbody tr th {\n",
       "        vertical-align: top;\n",
       "    }\n",
       "\n",
       "    .dataframe thead th {\n",
       "        text-align: right;\n",
       "    }\n",
       "</style>\n",
       "<table border=\"1\" class=\"dataframe\">\n",
       "  <thead>\n",
       "    <tr style=\"text-align: right;\">\n",
       "      <th></th>\n",
       "      <th>Unnamed: 0</th>\n",
       "      <th>Title</th>\n",
       "      <th>Description</th>\n",
       "      <th>Link</th>\n",
       "    </tr>\n",
       "  </thead>\n",
       "  <tbody>\n",
       "    <tr>\n",
       "      <th>0</th>\n",
       "      <td>0</td>\n",
       "      <td>Computer Science: Programming with a Purpose</td>\n",
       "      <td>The basis for education in the last millennium...</td>\n",
       "      <td>https://www.coursera.org/learn/cs-programming-...</td>\n",
       "    </tr>\n",
       "    <tr>\n",
       "      <th>1</th>\n",
       "      <td>1</td>\n",
       "      <td>Computer Science:  Algorithms, Theory, and Mac...</td>\n",
       "      <td>This course  introduces the broader discipline...</td>\n",
       "      <td>https://www.coursera.org/learn/cs-algorithms-t...</td>\n",
       "    </tr>\n",
       "    <tr>\n",
       "      <th>2</th>\n",
       "      <td>2</td>\n",
       "      <td>HTML, CSS, and Javascript for Web Developers</td>\n",
       "      <td>Do you realize that the only functionality of ...</td>\n",
       "      <td>https://www.coursera.org/learn/html-css-javasc...</td>\n",
       "    </tr>\n",
       "    <tr>\n",
       "      <th>3</th>\n",
       "      <td>3</td>\n",
       "      <td>Learn to Program: The Fundamentals</td>\n",
       "      <td>Behind every mouse click and touch-screen tap,...</td>\n",
       "      <td>https://www.coursera.org/learn/learn-to-program</td>\n",
       "    </tr>\n",
       "    <tr>\n",
       "      <th>4</th>\n",
       "      <td>4</td>\n",
       "      <td>Introduction to Software Engineering</td>\n",
       "      <td>Are you curious about the lucrative field that...</td>\n",
       "      <td>https://www.coursera.org/learn/introduction-to...</td>\n",
       "    </tr>\n",
       "  </tbody>\n",
       "</table>\n",
       "</div>"
      ],
      "text/plain": [
       "   Unnamed: 0                                              Title  \\\n",
       "0           0       Computer Science: Programming with a Purpose   \n",
       "1           1  Computer Science:  Algorithms, Theory, and Mac...   \n",
       "2           2       HTML, CSS, and Javascript for Web Developers   \n",
       "3           3                 Learn to Program: The Fundamentals   \n",
       "4           4               Introduction to Software Engineering   \n",
       "\n",
       "                                         Description  \\\n",
       "0  The basis for education in the last millennium...   \n",
       "1  This course  introduces the broader discipline...   \n",
       "2  Do you realize that the only functionality of ...   \n",
       "3  Behind every mouse click and touch-screen tap,...   \n",
       "4  Are you curious about the lucrative field that...   \n",
       "\n",
       "                                                Link  \n",
       "0  https://www.coursera.org/learn/cs-programming-...  \n",
       "1  https://www.coursera.org/learn/cs-algorithms-t...  \n",
       "2  https://www.coursera.org/learn/html-css-javasc...  \n",
       "3    https://www.coursera.org/learn/learn-to-program  \n",
       "4  https://www.coursera.org/learn/introduction-to...  "
      ]
     },
     "execution_count": 115,
     "metadata": {},
     "output_type": "execute_result"
    }
   ],
   "source": [
    "coursera_df.head()"
   ]
  },
  {
   "cell_type": "code",
   "execution_count": 116,
   "id": "0c5303cf-aa4d-428d-8d5f-beb258596dbb",
   "metadata": {
    "tags": []
   },
   "outputs": [],
   "source": [
    "mit_df = mit_df[~mit_df['Description'].str.contains(\"has been retired from OCW\")]"
   ]
  },
  {
   "cell_type": "code",
   "execution_count": 117,
   "id": "7bfb6c0c-c663-48ab-b967-15d3d8e66821",
   "metadata": {
    "tags": []
   },
   "outputs": [],
   "source": [
    "new_mit_df = mit_df.drop([\"Unnamed: 0\", \"Unnamed: 0.1\"], axis = 1)\n",
    "new_coursera_df = coursera_df.drop(\"Unnamed: 0\", axis = 1)"
   ]
  },
  {
   "cell_type": "code",
   "execution_count": 118,
   "id": "c505e53c-b409-48a5-8136-c5e69cbf5591",
   "metadata": {
    "tags": []
   },
   "outputs": [],
   "source": [
    "mit_tag = [\"MIT OpenCourseware\" for i in range(new_mit_df.shape[0])]\n",
    "coursera_tag = [\"Coursera\" for i in range(new_coursera_df.shape[0])]"
   ]
  },
  {
   "cell_type": "code",
   "execution_count": 119,
   "id": "d850ffbd-1d8f-49d3-a298-6a01deb12134",
   "metadata": {
    "tags": []
   },
   "outputs": [],
   "source": [
    "new_mit_df[\"Source\"] = mit_tag\n",
    "new_coursera_df[\"Source\"] = coursera_tag"
   ]
  },
  {
   "cell_type": "code",
   "execution_count": 120,
   "id": "d5c56d86-c4c9-4998-8032-4c5e4610da03",
   "metadata": {
    "tags": []
   },
   "outputs": [],
   "source": [
    "all_courses = pd.concat([new_mit_df, new_coursera_df], ignore_index=True)"
   ]
  },
  {
   "cell_type": "code",
   "execution_count": 121,
   "id": "8030f39d-59c6-49b7-9f50-ce970042a7af",
   "metadata": {
    "tags": []
   },
   "outputs": [],
   "source": [
    "all_courses = all_courses.drop_duplicates() "
   ]
  },
  {
   "cell_type": "code",
   "execution_count": 122,
   "id": "406c9a35-6792-49fb-8891-418f350dfe14",
   "metadata": {
    "tags": []
   },
   "outputs": [
    {
     "data": {
      "text/html": [
       "<div>\n",
       "<style scoped>\n",
       "    .dataframe tbody tr th:only-of-type {\n",
       "        vertical-align: middle;\n",
       "    }\n",
       "\n",
       "    .dataframe tbody tr th {\n",
       "        vertical-align: top;\n",
       "    }\n",
       "\n",
       "    .dataframe thead th {\n",
       "        text-align: right;\n",
       "    }\n",
       "</style>\n",
       "<table border=\"1\" class=\"dataframe\">\n",
       "  <thead>\n",
       "    <tr style=\"text-align: right;\">\n",
       "      <th></th>\n",
       "      <th>Title</th>\n",
       "      <th>Description</th>\n",
       "      <th>Link</th>\n",
       "      <th>Source</th>\n",
       "    </tr>\n",
       "  </thead>\n",
       "  <tbody>\n",
       "    <tr>\n",
       "      <th>0</th>\n",
       "      <td>Mathematics for Computer Science</td>\n",
       "      <td>This course covers elementary discrete mathema...</td>\n",
       "      <td>https://ocw.mit.edu/courses/6-042j-mathematics...</td>\n",
       "      <td>MIT OpenCourseware</td>\n",
       "    </tr>\n",
       "    <tr>\n",
       "      <th>1</th>\n",
       "      <td>Mathematics for Computer Science</td>\n",
       "      <td>This is an introductory course in Discrete Mat...</td>\n",
       "      <td>https://ocw.mit.edu/courses/6-042j-mathematics...</td>\n",
       "      <td>MIT OpenCourseware</td>\n",
       "    </tr>\n",
       "    <tr>\n",
       "      <th>2</th>\n",
       "      <td>Mathematics for Computer Science</td>\n",
       "      <td>This subject offers an interactive introductio...</td>\n",
       "      <td>https://ocw.mit.edu/courses/6-042j-mathematics...</td>\n",
       "      <td>MIT OpenCourseware</td>\n",
       "    </tr>\n",
       "    <tr>\n",
       "      <th>3</th>\n",
       "      <td>Computational Cognitive Science</td>\n",
       "      <td>This course is an introduction to computationa...</td>\n",
       "      <td>https://ocw.mit.edu/courses/9-66j-computationa...</td>\n",
       "      <td>MIT OpenCourseware</td>\n",
       "    </tr>\n",
       "    <tr>\n",
       "      <th>4</th>\n",
       "      <td>Great Ideas in Theoretical Computer Science</td>\n",
       "      <td>This course provides a challenging introductio...</td>\n",
       "      <td>https://ocw.mit.edu/courses/6-080-great-ideas-...</td>\n",
       "      <td>MIT OpenCourseware</td>\n",
       "    </tr>\n",
       "  </tbody>\n",
       "</table>\n",
       "</div>"
      ],
      "text/plain": [
       "                                         Title  \\\n",
       "0             Mathematics for Computer Science   \n",
       "1             Mathematics for Computer Science   \n",
       "2             Mathematics for Computer Science   \n",
       "3              Computational Cognitive Science   \n",
       "4  Great Ideas in Theoretical Computer Science   \n",
       "\n",
       "                                         Description  \\\n",
       "0  This course covers elementary discrete mathema...   \n",
       "1  This is an introductory course in Discrete Mat...   \n",
       "2  This subject offers an interactive introductio...   \n",
       "3  This course is an introduction to computationa...   \n",
       "4  This course provides a challenging introductio...   \n",
       "\n",
       "                                                Link              Source  \n",
       "0  https://ocw.mit.edu/courses/6-042j-mathematics...  MIT OpenCourseware  \n",
       "1  https://ocw.mit.edu/courses/6-042j-mathematics...  MIT OpenCourseware  \n",
       "2  https://ocw.mit.edu/courses/6-042j-mathematics...  MIT OpenCourseware  \n",
       "3  https://ocw.mit.edu/courses/9-66j-computationa...  MIT OpenCourseware  \n",
       "4  https://ocw.mit.edu/courses/6-080-great-ideas-...  MIT OpenCourseware  "
      ]
     },
     "execution_count": 122,
     "metadata": {},
     "output_type": "execute_result"
    }
   ],
   "source": [
    "all_courses.head()"
   ]
  },
  {
   "cell_type": "code",
   "execution_count": 123,
   "id": "ca4b837d-ad26-49fc-b30f-03f77de695f6",
   "metadata": {
    "tags": []
   },
   "outputs": [
    {
     "data": {
      "text/plain": [
       "(984, 4)"
      ]
     },
     "execution_count": 123,
     "metadata": {},
     "output_type": "execute_result"
    }
   ],
   "source": [
    "all_courses.shape"
   ]
  },
  {
   "cell_type": "code",
   "execution_count": 124,
   "id": "a3c1880a-eaea-41a7-8307-fa8ee35deb80",
   "metadata": {
    "tags": []
   },
   "outputs": [],
   "source": [
    "all_courses.to_csv('all_courses.csv')"
   ]
  },
  {
   "cell_type": "code",
   "execution_count": null,
   "id": "2294626d-f6ee-4b06-8afb-435fd2e40773",
   "metadata": {},
   "outputs": [],
   "source": []
  }
 ],
 "metadata": {
  "kernelspec": {
   "display_name": "Python 3 (ipykernel)",
   "language": "python",
   "name": "python3"
  },
  "language_info": {
   "codemirror_mode": {
    "name": "ipython",
    "version": 3
   },
   "file_extension": ".py",
   "mimetype": "text/x-python",
   "name": "python",
   "nbconvert_exporter": "python",
   "pygments_lexer": "ipython3",
   "version": "3.11.4"
  }
 },
 "nbformat": 4,
 "nbformat_minor": 5
}
