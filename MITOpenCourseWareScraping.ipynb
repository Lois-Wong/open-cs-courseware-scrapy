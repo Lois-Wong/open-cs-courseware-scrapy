{
 "cells": [
  {
   "cell_type": "code",
   "execution_count": 6,
   "id": "713607af-4794-45b2-8c31-fc1386b312a2",
   "metadata": {
    "tags": []
   },
   "outputs": [],
   "source": [
    "import re\n",
    "import time \n",
    "import logging\n",
    "import requests\n",
    "import re\n",
    "import sys\n",
    "from bs4 import BeautifulSoup\n",
    "from queue import Queue\n",
    "from urllib import parse, request\n",
    "from urllib.parse import urlparse\n",
    "import heapq\n",
    "from selenium import webdriver \n",
    "from selenium.webdriver.common.keys import Keys\n",
    "import pandas as pd\n",
    "from selenium.webdriver.common.by import By"
   ]
  },
  {
   "cell_type": "markdown",
   "id": "6de26f10-37ec-46e1-9ae7-0f24f59218f2",
   "metadata": {},
   "source": [
    "#### MIT Open Courseware Scraping\n",
    "\n",
    "Starting URL: https://ocw.mit.edu/search/?d=Electrical%20Engineering%20and%20Computer%20Science&q=computer%20science \n",
    "\n",
    "Courses Format:https://ocw.mit.edu/courses\n",
    "\n",
    "Course1: https://ocw.mit.edu/courses/6-001-structure-and-interpretation-of-computer-programs-spring-2005/\n",
    "Course2: https://ocw.mit.edu/courses/6-042j-mathematics-for-computer-science-fall-2010/\n",
    "\n",
    "Course Format: https://ocw.mit.edu/courses/[course # , title, date created]/\n",
    "- EECS courses seem to be 6.###A-Z\n",
    "\n",
    "Syllabus: https://ocw.mit.edu/courses/6-001-structure-and-interpretation-of-computer-programs-spring-2005/pages/syllabus/\n",
    "\n",
    "Syllabus Format: courseurl + \"pages/syllabus/\"\n",
    "\n",
    "Example of graduate course: https://ocw.mit.edu/courses/mas-865j-quantum-information-science-spring-2006/\n",
    "- mas for masters? \n"
   ]
  },
  {
   "cell_type": "code",
   "execution_count": 68,
   "id": "63fca0bd-cf35-4aee-a445-cf27835fb5cc",
   "metadata": {
    "tags": []
   },
   "outputs": [],
   "source": [
    "site = \"https://ocw.mit.edu/search/?d=Electrical%20Engineering%20and%20Computer%20Science\"\n",
    "page = requests.get(site)\n",
    "soup = BeautifulSoup(page.content, \"html.parser\")"
   ]
  },
  {
   "cell_type": "code",
   "execution_count": 69,
   "id": "6d5916ec-d8fd-40ea-82ed-9b58c0475722",
   "metadata": {
    "tags": []
   },
   "outputs": [],
   "source": [
    "# Create a webdriver instance\n",
    "driver = webdriver.Chrome()\n",
    "\n",
    "# Get the main page with the links to the courses\n",
    "driver.get('https://ocw.mit.edu/search/?d=Electrical%20Engineering%20and%20Computer%20Science&q=computer%20science')"
   ]
  },
  {
   "cell_type": "code",
   "execution_count": 20,
   "id": "88cbdffb-9ba4-4aaf-9ed0-2ec14613f783",
   "metadata": {
    "tags": []
   },
   "outputs": [],
   "source": [
    "# Scroll to the bottom of the page to load more content\n",
    "last_height = driver.execute_script(\"return document.body.scrollHeight\")\n",
    "while True:\n",
    "    driver.execute_script(\"window.scrollTo(0, document.body.scrollHeight);\")\n",
    "    time.sleep(2)  # Wait for new content to load\n",
    "    new_height = driver.execute_script(\"return document.body.scrollHeight\")\n",
    "    if new_height == last_height:\n",
    "        break\n",
    "    last_height = new_height"
   ]
  },
  {
   "cell_type": "code",
   "execution_count": 21,
   "id": "fc6302d1-b607-4c34-8bcf-9efef7802960",
   "metadata": {
    "tags": []
   },
   "outputs": [],
   "source": [
    "# Find all links to courses\n",
    "cards = driver.find_elements(By.CLASS_NAME, 'lr-row.course-title')\n",
    "\n",
    "# Extract links from each card\n",
    "links = []\n",
    "for card in cards:\n",
    "    link_element = card.find_element(By.TAG_NAME, 'a')\n",
    "    link = link_element.get_attribute(\"href\")\n",
    "    links.append(link)\n",
    "\n",
    "#print(links)"
   ]
  },
  {
   "cell_type": "code",
   "execution_count": 22,
   "id": "a32c7835-75e4-4f46-a43e-2fbdd401499b",
   "metadata": {
    "tags": []
   },
   "outputs": [],
   "source": [
    "# Visit each link and extract the title and description\n",
    "\n",
    "titles = []\n",
    "descriptions = []\n",
    "\n",
    "for link in links:\n",
    "    driver.get(link)\n",
    "    time.sleep(2)  # Add a delay to allow the page to load\n",
    "    soup = BeautifulSoup(driver.page_source, 'html.parser')\n",
    "    \n",
    "    # Extract title\n",
    "    title_element = soup.find('a', class_='text-capitalize m-0 text-white')\n",
    "    if title_element:\n",
    "        titles.append(title_element.text.strip())\n",
    "    else:\n",
    "        titles.append('Title not found')\n",
    "    \n",
    "    # Extract description\n",
    "    description_element = soup.find('div', id='expanded-description')\n",
    "    if description_element:\n",
    "        descriptions.append(description_element.text.strip())\n",
    "    else:\n",
    "        description_element = soup.find('div', id='full-description')\n",
    "        if description_element:\n",
    "            descriptions.append(description_element.text.strip()) \n",
    "        else:\n",
    "            descriptions.append('Description not found') \n",
    "    \n",
    "    #print(f\"Title: {title}\")\n",
    "    #print(f\"Description: {description}\")\n",
    "    #print()\n",
    "\n",
    "# Quit the webdriver\n",
    "driver.quit()\n"
   ]
  },
  {
   "cell_type": "code",
   "execution_count": null,
   "id": "3fd321ff-7f11-44b1-93a9-0d87f3b4ffb0",
   "metadata": {},
   "outputs": [],
   "source": [
    "syllabus_link = [link + \"pages/syllabus/\" for link in links]"
   ]
  },
  {
   "cell_type": "code",
   "execution_count": 35,
   "id": "c3516f6c-cb05-4f2b-bcf0-5aa9d847aabd",
   "metadata": {
    "tags": []
   },
   "outputs": [],
   "source": [
    "course_df = pd.DataFrame(\n",
    "    {'Title': titles,\n",
    "     'Description': descriptions,\n",
    "     'Link': links,\n",
    "     'Link to Syllabus': syllabus_link})"
   ]
  },
  {
   "cell_type": "code",
   "execution_count": 36,
   "id": "990fea11-6c56-4d28-a6b8-991c4a9ee02b",
   "metadata": {
    "tags": []
   },
   "outputs": [
    {
     "data": {
      "text/html": [
       "<div>\n",
       "<style scoped>\n",
       "    .dataframe tbody tr th:only-of-type {\n",
       "        vertical-align: middle;\n",
       "    }\n",
       "\n",
       "    .dataframe tbody tr th {\n",
       "        vertical-align: top;\n",
       "    }\n",
       "\n",
       "    .dataframe thead th {\n",
       "        text-align: right;\n",
       "    }\n",
       "</style>\n",
       "<table border=\"1\" class=\"dataframe\">\n",
       "  <thead>\n",
       "    <tr style=\"text-align: right;\">\n",
       "      <th></th>\n",
       "      <th>Title</th>\n",
       "      <th>Description</th>\n",
       "      <th>Link</th>\n",
       "      <th>Link to Syllabus</th>\n",
       "    </tr>\n",
       "  </thead>\n",
       "  <tbody>\n",
       "    <tr>\n",
       "      <th>0</th>\n",
       "      <td>Mathematics for Computer Science</td>\n",
       "      <td>This course covers elementary discrete mathema...</td>\n",
       "      <td>https://ocw.mit.edu/courses/6-042j-mathematics...</td>\n",
       "      <td>https://ocw.mit.edu/courses/6-042j-mathematics...</td>\n",
       "    </tr>\n",
       "    <tr>\n",
       "      <th>1</th>\n",
       "      <td>Mathematics for Computer Science</td>\n",
       "      <td>This is an introductory course in Discrete Mat...</td>\n",
       "      <td>https://ocw.mit.edu/courses/6-042j-mathematics...</td>\n",
       "      <td>https://ocw.mit.edu/courses/6-042j-mathematics...</td>\n",
       "    </tr>\n",
       "    <tr>\n",
       "      <th>2</th>\n",
       "      <td>Mathematics for Computer Science</td>\n",
       "      <td>This subject offers an interactive introductio...</td>\n",
       "      <td>https://ocw.mit.edu/courses/6-042j-mathematics...</td>\n",
       "      <td>https://ocw.mit.edu/courses/6-042j-mathematics...</td>\n",
       "    </tr>\n",
       "    <tr>\n",
       "      <th>3</th>\n",
       "      <td>Computational Cognitive Science</td>\n",
       "      <td>This course is an introduction to computationa...</td>\n",
       "      <td>https://ocw.mit.edu/courses/9-66j-computationa...</td>\n",
       "      <td>https://ocw.mit.edu/courses/9-66j-computationa...</td>\n",
       "    </tr>\n",
       "    <tr>\n",
       "      <th>4</th>\n",
       "      <td>Introduction to Computer Science and Programming</td>\n",
       "      <td>6.00 Intro to CS and Programming has been reti...</td>\n",
       "      <td>https://ocw.mit.edu/courses/6-00-introduction-...</td>\n",
       "      <td>https://ocw.mit.edu/courses/6-00-introduction-...</td>\n",
       "    </tr>\n",
       "  </tbody>\n",
       "</table>\n",
       "</div>"
      ],
      "text/plain": [
       "                                              Title  \\\n",
       "0                  Mathematics for Computer Science   \n",
       "1                  Mathematics for Computer Science   \n",
       "2                  Mathematics for Computer Science   \n",
       "3                   Computational Cognitive Science   \n",
       "4  Introduction to Computer Science and Programming   \n",
       "\n",
       "                                         Description  \\\n",
       "0  This course covers elementary discrete mathema...   \n",
       "1  This is an introductory course in Discrete Mat...   \n",
       "2  This subject offers an interactive introductio...   \n",
       "3  This course is an introduction to computationa...   \n",
       "4  6.00 Intro to CS and Programming has been reti...   \n",
       "\n",
       "                                                Link  \\\n",
       "0  https://ocw.mit.edu/courses/6-042j-mathematics...   \n",
       "1  https://ocw.mit.edu/courses/6-042j-mathematics...   \n",
       "2  https://ocw.mit.edu/courses/6-042j-mathematics...   \n",
       "3  https://ocw.mit.edu/courses/9-66j-computationa...   \n",
       "4  https://ocw.mit.edu/courses/6-00-introduction-...   \n",
       "\n",
       "                                    Link to Syllabus  \n",
       "0  https://ocw.mit.edu/courses/6-042j-mathematics...  \n",
       "1  https://ocw.mit.edu/courses/6-042j-mathematics...  \n",
       "2  https://ocw.mit.edu/courses/6-042j-mathematics...  \n",
       "3  https://ocw.mit.edu/courses/9-66j-computationa...  \n",
       "4  https://ocw.mit.edu/courses/6-00-introduction-...  "
      ]
     },
     "execution_count": 36,
     "metadata": {},
     "output_type": "execute_result"
    }
   ],
   "source": [
    "course_df.head()"
   ]
  },
  {
   "cell_type": "code",
   "execution_count": 37,
   "id": "514ad72f-1a40-4dcf-b627-fb1f2861050f",
   "metadata": {
    "tags": []
   },
   "outputs": [],
   "source": [
    "course_df.to_csv('course_df_syllabus.csv')"
   ]
  },
  {
   "cell_type": "markdown",
   "id": "4641c315-f5ce-43b8-8a0c-3f3e7eeca330",
   "metadata": {},
   "source": [
    "#### Cleaning up course.csv"
   ]
  },
  {
   "cell_type": "code",
   "execution_count": null,
   "id": "7186bfdb-6765-42f7-b408-c97974ef29c3",
   "metadata": {},
   "outputs": [],
   "source": [
    "courses = pd.read_csv(\"/Users/loiswong/Downloads/jhu-ir-hw/final/course_df.csv\")"
   ]
  },
  {
   "cell_type": "code",
   "execution_count": null,
   "id": "70cce67a-5bfe-4ad9-9628-a9a87c9c6eab",
   "metadata": {},
   "outputs": [],
   "source": [
    "# remove \"show less\" from course descriptions \n",
    "\n",
    "def remove_show_less(my_text):\n",
    "    search_result = re.search(r'(.*)Show less$', my_text, re.DOTALL)\n",
    "    if search_result:\n",
    "        return search_result.group(1) \n",
    "    else:\n",
    "        return my_text"
   ]
  },
  {
   "cell_type": "code",
   "execution_count": null,
   "id": "f5b80776-096b-405f-be5f-17aedba9c88d",
   "metadata": {},
   "outputs": [],
   "source": [
    "courses['Description'] = courses['Description'].apply(remove_show_less) "
   ]
  },
  {
   "cell_type": "code",
   "execution_count": null,
   "id": "ccc7757a-7896-4ccf-b096-1e588466102f",
   "metadata": {},
   "outputs": [],
   "source": [
    "courses.to_csv('course_df_new.csv')"
   ]
  },
  {
   "cell_type": "markdown",
   "id": "7525cba5-4932-4ca3-adf3-32367a09e2cf",
   "metadata": {},
   "source": [
    "#### Calculating similarity between Course Descriptions and Prompts (test)"
   ]
  },
  {
   "cell_type": "code",
   "execution_count": 16,
   "id": "89bf38e6-9265-4789-ba35-e24ae281b3b2",
   "metadata": {
    "tags": []
   },
   "outputs": [
    {
     "name": "stdin",
     "output_type": "stream",
     "text": [
      "What are your goals for an online CS course?  I want to learn how graph theory and discrete math as well as sets and counting techniques fit into computer science.\n"
     ]
    },
    {
     "name": "stdout",
     "output_type": "stream",
     "text": [
      "Similarity Score: 0.14673715829849243\n"
     ]
    }
   ],
   "source": [
    "from sentence_transformers import SentenceTransformer, util\n",
    "\n",
    "# Load a pre-trained sentence transformer model\n",
    "model = SentenceTransformer('paraphrase-MiniLM-L6-v2')\n",
    "\n",
    "# Example course description\n",
    "course_description = \"\"\"\n",
    "6.776 covers circuit level design issues of high speed communication systems, with primary focus being placed on wireless and broadband data link applications. Specific circuit topics include transmission lines, high speed and low noise amplifiers, VCO’s, mixers, power amps, high speed digital circuits, and frequency synthesizers. In addition to learning analysis skills for the above items, students will gain a significant amount of experience in simulating RF circuits in SPICE and also building RF circuits within a lab project.\n",
    "\"\"\"\n",
    "\n",
    "# User input\n",
    "user_goals = input(\"What are your goals for an online CS course? \")\n",
    "\n",
    "# Encode the user's goals and the course description\n",
    "user_goals_embedding = model.encode(user_goals, convert_to_tensor=True)\n",
    "course_description_embedding = model.encode(course_description, convert_to_tensor=True)\n",
    "\n",
    "# Calculate the similarity between the embeddings\n",
    "cosine_score = util.pytorch_cos_sim(user_goals_embedding, course_description_embedding).item()\n",
    "\n",
    "print(f\"Similarity Score: {cosine_score}\")\n"
   ]
  }
 ],
 "metadata": {
  "kernelspec": {
   "display_name": "Python 3 (ipykernel)",
   "language": "python",
   "name": "python3"
  },
  "language_info": {
   "codemirror_mode": {
    "name": "ipython",
    "version": 3
   },
   "file_extension": ".py",
   "mimetype": "text/x-python",
   "name": "python",
   "nbconvert_exporter": "python",
   "pygments_lexer": "ipython3",
   "version": "3.11.4"
  }
 },
 "nbformat": 4,
 "nbformat_minor": 5
}
