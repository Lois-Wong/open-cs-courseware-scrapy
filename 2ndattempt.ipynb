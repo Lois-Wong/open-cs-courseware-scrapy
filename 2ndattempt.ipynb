{
 "cells": [
  {
   "cell_type": "code",
   "execution_count": 17,
   "id": "713607af-4794-45b2-8c31-fc1386b312a2",
   "metadata": {
    "tags": []
   },
   "outputs": [],
   "source": [
    "import time \n",
    "import logging\n",
    "import requests\n",
    "import re\n",
    "import sys\n",
    "from bs4 import BeautifulSoup\n",
    "from queue import Queue\n",
    "from urllib import parse, request\n",
    "from urllib.parse import urlparse\n",
    "import heapq\n",
    "from selenium import webdriver \n",
    "from selenium.webdriver.common.keys import Keys\n",
    "import pandas as pd\n",
    "from selenium.webdriver.common.by import By"
   ]
  },
  {
   "cell_type": "code",
   "execution_count": 18,
   "id": "63fca0bd-cf35-4aee-a445-cf27835fb5cc",
   "metadata": {
    "tags": []
   },
   "outputs": [],
   "source": [
    "site = \"https://ocw.mit.edu/search/?d=Electrical%20Engineering%20and%20Computer%20Science\"\n",
    "page = requests.get(site)\n",
    "soup = BeautifulSoup(page.content, \"html.parser\")"
   ]
  },
  {
   "cell_type": "code",
   "execution_count": 19,
   "id": "6d5916ec-d8fd-40ea-82ed-9b58c0475722",
   "metadata": {
    "tags": []
   },
   "outputs": [
    {
     "name": "stderr",
     "output_type": "stream",
     "text": [
      "huggingface/tokenizers: The current process just got forked, after parallelism has already been used. Disabling parallelism to avoid deadlocks...\n",
      "To disable this warning, you can either:\n",
      "\t- Avoid using `tokenizers` before the fork if possible\n",
      "\t- Explicitly set the environment variable TOKENIZERS_PARALLELISM=(true | false)\n",
      "huggingface/tokenizers: The current process just got forked, after parallelism has already been used. Disabling parallelism to avoid deadlocks...\n",
      "To disable this warning, you can either:\n",
      "\t- Avoid using `tokenizers` before the fork if possible\n",
      "\t- Explicitly set the environment variable TOKENIZERS_PARALLELISM=(true | false)\n"
     ]
    }
   ],
   "source": [
    "# Create a webdriver instance\n",
    "driver = webdriver.Chrome()\n",
    "\n",
    "# Get the main page with the links to the courses\n",
    "driver.get('https://ocw.mit.edu/search/?d=Electrical%20Engineering%20and%20Computer%20Science&q=computer%20science')"
   ]
  },
  {
   "cell_type": "code",
   "execution_count": 20,
   "id": "88cbdffb-9ba4-4aaf-9ed0-2ec14613f783",
   "metadata": {
    "tags": []
   },
   "outputs": [],
   "source": [
    "# Scroll to the bottom of the page to load more content\n",
    "last_height = driver.execute_script(\"return document.body.scrollHeight\")\n",
    "while True:\n",
    "    driver.execute_script(\"window.scrollTo(0, document.body.scrollHeight);\")\n",
    "    time.sleep(2)  # Wait for new content to load\n",
    "    new_height = driver.execute_script(\"return document.body.scrollHeight\")\n",
    "    if new_height == last_height:\n",
    "        break\n",
    "    last_height = new_height"
   ]
  },
  {
   "cell_type": "code",
   "execution_count": 21,
   "id": "fc6302d1-b607-4c34-8bcf-9efef7802960",
   "metadata": {
    "tags": []
   },
   "outputs": [],
   "source": [
    "# Find all links to courses\n",
    "cards = driver.find_elements(By.CLASS_NAME, 'lr-row.course-title')\n",
    "\n",
    "# Extract links from each card\n",
    "links = []\n",
    "for card in cards:\n",
    "    link_element = card.find_element(By.TAG_NAME, 'a')\n",
    "    link = link_element.get_attribute(\"href\")\n",
    "    links.append(link)\n",
    "\n",
    "#print(links)"
   ]
  },
  {
   "cell_type": "code",
   "execution_count": 22,
   "id": "a32c7835-75e4-4f46-a43e-2fbdd401499b",
   "metadata": {
    "tags": []
   },
   "outputs": [],
   "source": [
    "# Visit each link and extract the title and description\n",
    "\n",
    "titles = []\n",
    "descriptions = []\n",
    "\n",
    "for link in links:\n",
    "    driver.get(link)\n",
    "    time.sleep(2)  # Add a delay to allow the page to load\n",
    "    soup = BeautifulSoup(driver.page_source, 'html.parser')\n",
    "    \n",
    "    # Extract title\n",
    "    title_element = soup.find('a', class_='text-capitalize m-0 text-white')\n",
    "    if title_element:\n",
    "        titles.append(title_element.text.strip())\n",
    "    else:\n",
    "        titles.append('Title not found')\n",
    "    \n",
    "    # Extract description\n",
    "    description_element = soup.find('div', id='expanded-description')\n",
    "    if description_element:\n",
    "        descriptions.append(description_element.text.strip())\n",
    "    else:\n",
    "        description_element = soup.find('div', id='full-description')\n",
    "        if description_element:\n",
    "            descriptions.append(description_element.text.strip()) \n",
    "        else:\n",
    "            descriptions.append('Description not found') \n",
    "    \n",
    "    #print(f\"Title: {title}\")\n",
    "    #print(f\"Description: {description}\")\n",
    "    #print()\n",
    "\n",
    "# Quit the webdriver\n",
    "driver.quit()\n",
    "\n",
    "\n",
    "\n"
   ]
  },
  {
   "cell_type": "code",
   "execution_count": 23,
   "id": "c3516f6c-cb05-4f2b-bcf0-5aa9d847aabd",
   "metadata": {
    "tags": []
   },
   "outputs": [],
   "source": [
    "course_df = pd.DataFrame(\n",
    "    {'Title': titles,\n",
    "     'Descriptions': descriptions})"
   ]
  },
  {
   "cell_type": "code",
   "execution_count": 25,
   "id": "990fea11-6c56-4d28-a6b8-991c4a9ee02b",
   "metadata": {
    "tags": []
   },
   "outputs": [
    {
     "data": {
      "text/html": [
       "<div>\n",
       "<style scoped>\n",
       "    .dataframe tbody tr th:only-of-type {\n",
       "        vertical-align: middle;\n",
       "    }\n",
       "\n",
       "    .dataframe tbody tr th {\n",
       "        vertical-align: top;\n",
       "    }\n",
       "\n",
       "    .dataframe thead th {\n",
       "        text-align: right;\n",
       "    }\n",
       "</style>\n",
       "<table border=\"1\" class=\"dataframe\">\n",
       "  <thead>\n",
       "    <tr style=\"text-align: right;\">\n",
       "      <th></th>\n",
       "      <th>Title</th>\n",
       "      <th>Descriptions</th>\n",
       "    </tr>\n",
       "  </thead>\n",
       "  <tbody>\n",
       "    <tr>\n",
       "      <th>0</th>\n",
       "      <td>Mathematics for Computer Science</td>\n",
       "      <td>This course covers elementary discrete mathema...</td>\n",
       "    </tr>\n",
       "    <tr>\n",
       "      <th>1</th>\n",
       "      <td>Mathematics for Computer Science</td>\n",
       "      <td>This is an introductory course in Discrete Mat...</td>\n",
       "    </tr>\n",
       "    <tr>\n",
       "      <th>2</th>\n",
       "      <td>Mathematics for Computer Science</td>\n",
       "      <td>This subject offers an interactive introductio...</td>\n",
       "    </tr>\n",
       "    <tr>\n",
       "      <th>3</th>\n",
       "      <td>Computational Cognitive Science</td>\n",
       "      <td>This course is an introduction to computationa...</td>\n",
       "    </tr>\n",
       "    <tr>\n",
       "      <th>4</th>\n",
       "      <td>Introduction to Computer Science and Programming</td>\n",
       "      <td>6.00 Intro to CS and Programming has been reti...</td>\n",
       "    </tr>\n",
       "  </tbody>\n",
       "</table>\n",
       "</div>"
      ],
      "text/plain": [
       "                                              Title  \\\n",
       "0                  Mathematics for Computer Science   \n",
       "1                  Mathematics for Computer Science   \n",
       "2                  Mathematics for Computer Science   \n",
       "3                   Computational Cognitive Science   \n",
       "4  Introduction to Computer Science and Programming   \n",
       "\n",
       "                                        Descriptions  \n",
       "0  This course covers elementary discrete mathema...  \n",
       "1  This is an introductory course in Discrete Mat...  \n",
       "2  This subject offers an interactive introductio...  \n",
       "3  This course is an introduction to computationa...  \n",
       "4  6.00 Intro to CS and Programming has been reti...  "
      ]
     },
     "execution_count": 25,
     "metadata": {},
     "output_type": "execute_result"
    }
   ],
   "source": [
    "course_df.head()"
   ]
  },
  {
   "cell_type": "code",
   "execution_count": 26,
   "id": "514ad72f-1a40-4dcf-b627-fb1f2861050f",
   "metadata": {
    "tags": []
   },
   "outputs": [],
   "source": [
    "course_df.to_csv('course_df.csv')"
   ]
  },
  {
   "cell_type": "code",
   "execution_count": 16,
   "id": "89bf38e6-9265-4789-ba35-e24ae281b3b2",
   "metadata": {
    "tags": []
   },
   "outputs": [
    {
     "name": "stdin",
     "output_type": "stream",
     "text": [
      "What are your goals for an online CS course?  I want to learn how graph theory and discrete math as well as sets and counting techniques fit into computer science.\n"
     ]
    },
    {
     "name": "stdout",
     "output_type": "stream",
     "text": [
      "Similarity Score: 0.14673715829849243\n"
     ]
    }
   ],
   "source": [
    "from sentence_transformers import SentenceTransformer, util\n",
    "\n",
    "# Load a pre-trained sentence transformer model\n",
    "model = SentenceTransformer('paraphrase-MiniLM-L6-v2')\n",
    "\n",
    "# Example course description\n",
    "course_description = \"\"\"\n",
    "6.776 covers circuit level design issues of high speed communication systems, with primary focus being placed on wireless and broadband data link applications. Specific circuit topics include transmission lines, high speed and low noise amplifiers, VCO’s, mixers, power amps, high speed digital circuits, and frequency synthesizers. In addition to learning analysis skills for the above items, students will gain a significant amount of experience in simulating RF circuits in SPICE and also building RF circuits within a lab project.\n",
    "\"\"\"\n",
    "\n",
    "# User input\n",
    "user_goals = input(\"What are your goals for an online CS course? \")\n",
    "\n",
    "# Encode the user's goals and the course description\n",
    "user_goals_embedding = model.encode(user_goals, convert_to_tensor=True)\n",
    "course_description_embedding = model.encode(course_description, convert_to_tensor=True)\n",
    "\n",
    "# Calculate the similarity between the embeddings\n",
    "cosine_score = util.pytorch_cos_sim(user_goals_embedding, course_description_embedding).item()\n",
    "\n",
    "print(f\"Similarity Score: {cosine_score}\")\n"
   ]
  },
  {
   "cell_type": "code",
   "execution_count": null,
   "id": "5efcd85f-8961-485e-a823-cbbff7bc697f",
   "metadata": {},
   "outputs": [],
   "source": []
  }
 ],
 "metadata": {
  "kernelspec": {
   "display_name": "Python 3 (ipykernel)",
   "language": "python",
   "name": "python3"
  },
  "language_info": {
   "codemirror_mode": {
    "name": "ipython",
    "version": 3
   },
   "file_extension": ".py",
   "mimetype": "text/x-python",
   "name": "python",
   "nbconvert_exporter": "python",
   "pygments_lexer": "ipython3",
   "version": "3.11.4"
  }
 },
 "nbformat": 4,
 "nbformat_minor": 5
}
