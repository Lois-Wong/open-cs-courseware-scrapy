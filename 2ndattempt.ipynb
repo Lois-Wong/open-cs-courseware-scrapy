{
 "cells": [
  {
   "cell_type": "code",
   "execution_count": 66,
   "id": "713607af-4794-45b2-8c31-fc1386b312a2",
   "metadata": {
    "tags": []
   },
   "outputs": [],
   "source": [
    "import time \n",
    "import logging\n",
    "import requests\n",
    "import re\n",
    "import sys\n",
    "from bs4 import BeautifulSoup\n",
    "from queue import Queue\n",
    "from urllib import parse, request\n",
    "from urllib.parse import urlparse\n",
    "import heapq\n",
    "from selenium import webdriver \n",
    "from selenium.webdriver.common.keys import Keys\n",
    "import pandas as pd\n",
    "from selenium.webdriver.common.by import By"
   ]
  },
  {
   "cell_type": "code",
   "execution_count": 67,
   "id": "63fca0bd-cf35-4aee-a445-cf27835fb5cc",
   "metadata": {
    "tags": []
   },
   "outputs": [],
   "source": [
    "site = \"https://ocw.mit.edu/search/?d=Electrical%20Engineering%20and%20Computer%20Science\"\n",
    "page = requests.get(site)\n",
    "soup = BeautifulSoup(page.content, \"html.parser\")"
   ]
  },
  {
   "cell_type": "code",
   "execution_count": 68,
   "id": "6d5916ec-d8fd-40ea-82ed-9b58c0475722",
   "metadata": {
    "tags": []
   },
   "outputs": [],
   "source": [
    "# Create a webdriver instance\n",
    "driver = webdriver.Chrome()\n",
    "\n",
    "# Get the main page with the links to the courses\n",
    "driver.get('https://ocw.mit.edu/search/?d=Electrical%20Engineering%20and%20Computer%20Science&q=computer%20science')"
   ]
  },
  {
   "cell_type": "code",
   "execution_count": null,
   "id": "88cbdffb-9ba4-4aaf-9ed0-2ec14613f783",
   "metadata": {
    "tags": []
   },
   "outputs": [],
   "source": [
    "# Scroll to the bottom of the page to load more content\n",
    "last_height = driver.execute_script(\"return document.body.scrollHeight\")\n",
    "while True:\n",
    "    driver.execute_script(\"window.scrollTo(0, document.body.scrollHeight);\")\n",
    "    time.sleep(2)  # Wait for new content to load\n",
    "    new_height = driver.execute_script(\"return document.body.scrollHeight\")\n",
    "    if new_height == last_height:\n",
    "        break\n",
    "    last_height = new_height"
   ]
  },
  {
   "cell_type": "code",
   "execution_count": null,
   "id": "fc6302d1-b607-4c34-8bcf-9efef7802960",
   "metadata": {
    "tags": []
   },
   "outputs": [],
   "source": [
    "# Find all links to courses\n",
    "cards = driver.find_elements(By.CLASS_NAME, 'lr-row.course-title')\n",
    "\n",
    "# Extract links from each card\n",
    "links = []\n",
    "for card in cards:\n",
    "    link_element = card.find_element(By.TAG_NAME, 'a')\n",
    "    link = link_element.get_attribute(\"href\")\n",
    "    links.append(link)\n",
    "\n",
    "print(links)"
   ]
  },
  {
   "cell_type": "code",
   "execution_count": 65,
   "id": "a32c7835-75e4-4f46-a43e-2fbdd401499b",
   "metadata": {
    "tags": []
   },
   "outputs": [
    {
     "name": "stdout",
     "output_type": "stream",
     "text": [
      "Title: Mathematics for Computer Science\n",
      "Description: This course covers elementary discrete mathematics for computer science and engineering. It emphasizes mathematical definitions and proofs as well as applicable methods. Topics include formal logic notation, proof methods; induction, well-ordering; sets, relations; elementary graph theory; integer congruences; asymptotic notation and growth of functions; permutations and combinations, counting principles; discrete probability. Further selected topics may also be covered, such as recursive definition and structural induction; state machines and invariants; recurrences; generating functions.Show less\n",
      "\n",
      "Title: Mathematics for Computer Science\n",
      "Description: This is an introductory course in Discrete Mathematics oriented toward Computer Science and Engineering. The course divides roughly into thirds:\n",
      "\n",
      "Fundamental Concepts of Mathematics: Definitions, Proofs, Sets, Functions, Relations\n",
      "Discrete Structures: Modular Arithmetic, Graphs, State Machines, Counting\n",
      "Discrete Probability Theory\n",
      "\n",
      "A version of this course from a previous term was also taught as part of the Singapore-MIT Alliance (SMA) programme as course number SMA 5512 (Mathematics for Computer Science).\n",
      "Show less\n",
      "\n",
      "Title: Mathematics for Computer Science\n",
      "Description: This subject offers an interactive introduction to discrete mathematics oriented toward computer science and engineering. The subject coverage divides roughly into thirds:\n",
      "\n",
      "Fundamental concepts of mathematics: Definitions, proofs, sets, functions, relations.\n",
      "Discrete structures: graphs, state machines, modular arithmetic, counting.\n",
      "Discrete probability theory.\n",
      "\n",
      "On completion of 6.042J, students will be able to explain and apply the basic methods of discrete (noncontinuous) mathematics in computer science. They will be able to use these methods in subsequent courses in the design and analysis of algorithms, computability theory, software engineering, and computer systems.\n",
      "This course is part of the Open Learning Library, which is free to use. You have the option to sign up and enroll in the course if you want to track your progress, or you can view and use all the materials without enrolling.\n",
      "Show less\n",
      "\n",
      "Title: Computational Cognitive Science\n",
      "Description: This course is an introduction to computational theories of human cognition. Drawing on formal models from classic and contemporary artificial intelligence, students will explore fundamental issues in human knowledge representation, inductive learning and reasoning. What are the forms that our knowledge of the world takes? What are the inductive principles that allow us to acquire new knowledge from the interaction of prior knowledge with observed data? What kinds of data must be available to human learners, and what kinds of innate knowledge (if any) must they have?Show less\n",
      "\n",
      "Title: Introduction to Computer Science and Programming\n",
      "Description: 6.00 Intro to CS and Programming has been retired from OCW. You can access the archived course on DSpace – MIT’s digital repository. Please see the list of introductory programming courses and other programming courses from recent years.Show less\n",
      "\n",
      "Title: Great Ideas in Theoretical Computer Science\n",
      "Description: This course provides a challenging introduction to some of the central ideas of theoretical computer science. It attempts to present a vision of “computer science beyond computers”: that is, CS as a set of mathematical tools for understanding complex systems such as universes and minds. Beginning in antiquity—with Euclid’s algorithm and other ancient examples of computational thinking—the course will progress rapidly through propositional logic, Turing machines and computability, finite automata, Gödel’s theorems, efficient algorithms and reducibility, NP-completeness, the P versus NP problem, decision trees and other concrete computational models, the power of randomness, cryptography and one-way functions, computational theories of learning, interactive proofs, and quantum computing and the physical limits of computation. Class participation is essential, as the class will include discussion and debate about the implications of many of these ideas.Show less\n",
      "\n",
      "Title: Introduction to Computer Science and Programming\n",
      "Description: 6.00SC Intro to CS and Programming has been retired from OCW. You can access the archived course on DSpace – MIT’s digital repository. Please see the list of introductory programming courses and other programming courses from recent years.Show less\n",
      "\n",
      "Title: Introduction to Computer Science and Programming in Python\n",
      "Description: 6.0001 Introduction to Computer Science and Programming in Python is intended for students with little or no programming experience. It aims to provide students with an understanding of the role computation can play in solving problems and to help students, regardless of their major, feel justifiably confident of their ability to write small programs that allow them to accomplish useful goals. The class uses the Python 3.5 programming language.Show less\n",
      "\n",
      "Title: Introduction to Electrical Engineering and Computer Science I\n",
      "Description: This course provides an integrated introduction to electrical engineering and computer science, taught using substantial laboratory experiments with mobile robots. Our primary goal is for you to learn to appreciate and use the fundamental design principles of modularity and abstraction in a variety of contexts from electrical engineering and computer science.\n",
      "Our second goal is to show you that making mathematical models of real systems can help in the design and analysis of those systems. Finally, we have the more typical goals of teaching exciting and important basic material from electrical engineering and computer science, including modern software engineering, linear systems analysis, electronic circuits, and decision-making.\n",
      "Course Format\n",
      "This course has been designed for independent study. It includes all of the materials you will need to understand the concepts covered in this subject. The materials in this course include:\n",
      "\n",
      "Lecture videos from Spring 2011, taught by Prof. Dennis Freeman\n",
      "Recitation videos, developed for OCW Scholar by teaching assistant Kendra Pugh\n",
      "Course notes\n",
      "Software and design labs\n",
      "Homework assignments and additional exercises\n",
      "Nano-quizzes and exams with solutions\n",
      "\n",
      "Content Development\n",
      "Leslie Kaelbling \n",
      "Jacob White \n",
      "Harold Abelson \n",
      "Dennis Freeman\n",
      "Tomás Lozano-Pérez \n",
      "Isaac Chuang\n",
      "Show less\n",
      "\n",
      "Title: Introduction to Computational Thinking and Data Science\n",
      "Description: 6.0002 is the continuation of 6.0001 Introduction to Computer Science and Programming in Python and is intended for students with little or no programming experience. It aims to provide students with an understanding of the role computation can play in solving problems and to help students, regardless of their major, feel justifiably confident of their ability to write small programs that allow them to accomplish useful goals. The class uses the Python 3.5 programming language.Show less\n",
      "\n"
     ]
    }
   ],
   "source": [
    "# Visit each link and extract the title and description\n",
    "for link in links:\n",
    "    driver.get(link)\n",
    "    time.sleep(2)  # Add a delay to allow the page to load\n",
    "    soup = BeautifulSoup(driver.page_source, 'html.parser')\n",
    "    \n",
    "    # Extract title\n",
    "    title_element = soup.find('a', class_='text-capitalize m-0 text-white')\n",
    "    if title_element:\n",
    "        title = title_element.text.strip()\n",
    "    else:\n",
    "        title = 'Title not found'\n",
    "    \n",
    "    # Extract description\n",
    "    description_element = soup.find('div', id='expanded-description')\n",
    "    if description_element:\n",
    "        description = description_element.text.strip()\n",
    "    else:\n",
    "        description = 'Description not found'\n",
    "    \n",
    "    print(f\"Title: {title}\")\n",
    "    print(f\"Description: {description}\")\n",
    "    print()\n",
    "\n",
    "# Quit the webdriver\n",
    "driver.quit()\n"
   ]
  },
  {
   "cell_type": "markdown",
   "id": "4fe7dcc3-9319-408f-a4e3-67e54ae59bd8",
   "metadata": {},
   "source": [
    "#### NOTES\n",
    "\n",
    "TITLE: <a class=\"text-capitalize m-0 text-white\" href=\"/courses/6-001-structure-and-interpretation-of-computer-programs-spring-2005/\">Structure and Interpretation of Computer Programs</a>\n",
    "\n",
    "DESCR: This course introduces students to the principles of computation. Upon completion of 6.001, students should be able to explain and apply the basic methods from programming languages to analyze computational systems, and to generate computational solutions to abstract problems. Substantial weekly programming assignments …\n",
    "\n",
    "SYLLABUS_URL:"
   ]
  },
  {
   "cell_type": "code",
   "execution_count": null,
   "id": "5efcd85f-8961-485e-a823-cbbff7bc697f",
   "metadata": {},
   "outputs": [],
   "source": []
  }
 ],
 "metadata": {
  "kernelspec": {
   "display_name": "Python 3 (ipykernel)",
   "language": "python",
   "name": "python3"
  },
  "language_info": {
   "codemirror_mode": {
    "name": "ipython",
    "version": 3
   },
   "file_extension": ".py",
   "mimetype": "text/x-python",
   "name": "python",
   "nbconvert_exporter": "python",
   "pygments_lexer": "ipython3",
   "version": "3.11.4"
  }
 },
 "nbformat": 4,
 "nbformat_minor": 5
}
