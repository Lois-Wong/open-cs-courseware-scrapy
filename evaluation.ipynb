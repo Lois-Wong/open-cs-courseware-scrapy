{
 "cells": [
  {
   "cell_type": "code",
   "execution_count": 1,
   "id": "2ca04fe2-3b1a-45a5-917a-1443e64ec595",
   "metadata": {
    "tags": []
   },
   "outputs": [],
   "source": [
    "import pandas as pd\n",
    "import seaborn as sns"
   ]
  },
  {
   "cell_type": "code",
   "execution_count": 2,
   "id": "1dc9dfbb-7b2d-4fec-8b77-b552c3f4237c",
   "metadata": {
    "tags": []
   },
   "outputs": [],
   "source": [
    "# precision at 5"
   ]
  },
  {
   "cell_type": "code",
   "execution_count": null,
   "id": "6f5dc51a-54b4-4c11-8187-0603f6f320b4",
   "metadata": {},
   "outputs": [],
   "source": []
  },
  {
   "cell_type": "code",
   "execution_count": null,
   "id": "fc7defe9-68f0-4b9a-b812-321d18414a1b",
   "metadata": {},
   "outputs": [],
   "source": []
  },
  {
   "cell_type": "code",
   "execution_count": null,
   "id": "381440f0-84e4-451b-8909-2f0575b15d98",
   "metadata": {},
   "outputs": [],
   "source": []
  },
  {
   "cell_type": "code",
   "execution_count": null,
   "id": "c82d6a50-d624-4c75-a808-a126a6a03dea",
   "metadata": {},
   "outputs": [],
   "source": []
  }
 ],
 "metadata": {
  "kernelspec": {
   "display_name": "Python 3 (ipykernel)",
   "language": "python",
   "name": "python3"
  },
  "language_info": {
   "codemirror_mode": {
    "name": "ipython",
    "version": 3
   },
   "file_extension": ".py",
   "mimetype": "text/x-python",
   "name": "python",
   "nbconvert_exporter": "python",
   "pygments_lexer": "ipython3",
   "version": "3.11.4"
  }
 },
 "nbformat": 4,
 "nbformat_minor": 5
}
